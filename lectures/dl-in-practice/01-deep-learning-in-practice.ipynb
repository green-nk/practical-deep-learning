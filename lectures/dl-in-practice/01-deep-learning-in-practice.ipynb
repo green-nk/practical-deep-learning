{
  "cells": [
    {
      "cell_type": "raw",
      "metadata": {
        "id": "TtH6_Z4JcYOH"
      },
      "source": [
        "---\n",
        "title: Whatelse to know to deep learning in practice?\n",
        "author: green-nk\n",
        "date: Mar 3, 2024\n",
        "abstract-title: Disclaimer\n",
        "abstract: This page was run by Google Colab and documented with Quarto. Objective of it is to get a first hands-on ML/DL using fastai.\n",
        "---"
      ]
    },
    {
      "cell_type": "markdown",
      "metadata": {
        "id": "16LkON-UcYOJ"
      },
      "source": [
        "## Setup\n",
        "\n",
        "First, we need to setup an access to *Google Drive*. This is to persist data or artifacts in a local drive even when we are not connected to *Google Colab*."
      ]
    },
    {
      "cell_type": "code",
      "execution_count": 1,
      "metadata": {
        "colab": {
          "base_uri": "https://localhost:8080/"
        },
        "id": "BmN3jbDccYOK",
        "outputId": "c7d89143-6605-4436-c785-eb88bff8dcb7"
      },
      "outputs": [
        {
          "name": "stdout",
          "output_type": "stream",
          "text": [
            "Mounted at /content/gdrive\n"
          ]
        }
      ],
      "source": [
        "from google.colab import drive\n",
        "drive.mount(\"/content/gdrive\")"
      ]
    },
    {
      "cell_type": "markdown",
      "metadata": {
        "id": "qIIh7dBEcYOL"
      },
      "source": [
        "Then, install `ipywidgets` and `fastai` as necessary dependencies and import them."
      ]
    },
    {
      "cell_type": "code",
      "execution_count": 2,
      "metadata": {
        "colab": {
          "base_uri": "https://localhost:8080/"
        },
        "id": "43XT06zlcYOM",
        "outputId": "750a6ff2-622c-4022-87a5-7f5d4a20d4f2"
      },
      "outputs": [
        {
          "name": "stdout",
          "output_type": "stream",
          "text": [
            "\u001b[2K     \u001b[90m━━━━━━━━━━━━━━━━━━━━━━━━━━━━━━━━━━━━━━━━\u001b[0m \u001b[32m139.4/139.4 kB\u001b[0m \u001b[31m1.8 MB/s\u001b[0m eta \u001b[36m0:00:00\u001b[0m\n",
            "\u001b[2K     \u001b[90m━━━━━━━━━━━━━━━━━━━━━━━━━━━━━━━━━━━━━━━━\u001b[0m \u001b[32m2.3/2.3 MB\u001b[0m \u001b[31m12.8 MB/s\u001b[0m eta \u001b[36m0:00:00\u001b[0m\n",
            "\u001b[2K     \u001b[90m━━━━━━━━━━━━━━━━━━━━━━━━━━━━━━━━━━━━━━━━\u001b[0m \u001b[32m1.6/1.6 MB\u001b[0m \u001b[31m16.3 MB/s\u001b[0m eta \u001b[36m0:00:00\u001b[0m\n",
            "\u001b[?25h"
          ]
        }
      ],
      "source": [
        "!python -m pip install -Uqq ipywidgets fastai"
      ]
    },
    {
      "cell_type": "code",
      "execution_count": 64,
      "metadata": {
        "id": "_nRqeNxDcYOM"
      },
      "outputs": [],
      "source": [
        "from fastai.vision.all import *\n",
        "from fastai.text.all import *\n",
        "from fastai.tabular.all import *\n",
        "from fastai.collab import *"
      ]
    },
    {
      "cell_type": "markdown",
      "metadata": {
        "id": "OwfBh512cYOM"
      },
      "source": [
        "## Introduction"
      ]
    },
    {
      "cell_type": "markdown",
      "metadata": {
        "id": "nzSGY_RpcYOM"
      },
      "source": [
        "### Why Deep Learning?\n",
        "\n",
        "This is a starting point to your deep learning journey. Before we dive into what you need to know about it and how, it is important to talk about **Why?**.\n",
        "\n",
        "* **It is for everyone:** One might say deep learning is like a blackbox. However, the truth is in practice, what you want to do is just to solve problem of your own interests and there are a lot of state-of-the-art models to help you do that.\n",
        "* **Huge amount of data:** A lot of open-source and pre-trained model out there! So, there is no need for you to start collecting data from scratch just a few samples of it.\n",
        "* **High computational resources:** You do not need to be *Google* or *Microsoft* to train such large models. Nowadays, everyone can access this kind of computational resouce for free.\n",
        "* **Good for thousands of use cases in different areas:** There are remarkable accomplishment throughout the recent years that deep learning helps researchers and practitioners solve. Here is some of them:\n",
        "    * Natural language processing (NLP): answering questions; speech recognition; summarizing documents; classifying documents; translation;information retrieval (searching). Here is my recommendation on [a comprehensive guide to NLP](https://www.deeplearning.ai/resources/natural-language-processing/).\n",
        "    * Computer vision: image recognition; image captioning; image segmentation; image generation.\n",
        "    * Recommendation systems: product recommendations; web searching.\n",
        "    * Games: chess; go; real-time strategy games like StarCrafts.\n",
        "    * Others: algoritmic trading; text-to-speech."
      ]
    },
    {
      "cell_type": "markdown",
      "metadata": {
        "id": "fUXZljnPcYON"
      },
      "source": [
        "### Neural Networks: A Brief History\n",
        "\n",
        "This is a simplified verison of ANNs history that you will help you contextualize on what we have been through and learn to not repeat some of it!\n",
        "\n",
        "```{mermaid}\n",
        "flowchart LR;\n",
        "    A[Artificial Neurons] -- Unrecognized social position --> B[Perceptrons] -- Failure to learn simple XOR --> C[PDP] -- Approximation with one extra layer --> D[Modern ANNs];\n",
        "```\n",
        "\n",
        "Basically, what researchers have tried to do since 1943 is to develop a mathematical model of an artificial neuron inspired by the human brain. Although there are several years of misunderstanding of the theoretical issues, we still have multi-volume Parallel Distributed Processing (PDP) which acts as a backbone of modern ANNs. Here is the required components for this framework:\n",
        "\n",
        "1. A set of processing units\n",
        "2. A state of activation\n",
        "3. An output function for each unit\n",
        "4. A pattern of connectivity among units\n",
        "5. A propagation rule for propagating patterns of activities through the network of connectivities\n",
        "6. An activation rule for combining the inputs impinging on a unit with the current state of that unit to produce an output for the unit\n",
        "7. A learning rule whereby patterns of connectivity are modified by experience\n",
        "8. An environment within which the system must operate\n",
        "\n",
        "Again, thanks to the use of more layers, together with the improvement in hardware capability, the increase amount of data and algorithmic tweaks that allow neural networks to be trained faster and more easily, We now are able to complete complex tasks like an image recognizer by a only computer."
      ]
    },
    {
      "cell_type": "markdown",
      "metadata": {
        "id": "xjEalENicYON"
      },
      "source": [
        "### Cats and Dogs\n",
        "\n",
        "Let's implement *PDP* framework in practice by using a *pre-trained model* to complete a task; an image recognizer perhaps. Here is what about to happen:\n",
        "\n",
        "1. A dataset called the [Oxford-IIIT Pet Dataset](http://www.robots.ox.ac.uk/~vgg/data/pets/) that contains 7,349 images of cats and dogs from 37 different breeds will be downloaded from the fast.ai datasets collection to the GPU server you are using, and will then be extracted.\n",
        "2. A *pretrained model* that has already been trained on 1.3 million images, using a competition-winning model will be downloaded from the internet.\n",
        "3. The pretrained model will be *fine-tuned* using the latest advances in transfer learning, to create a model that is specially customized for recognizing dogs and cats."
      ]
    },
    {
      "cell_type": "code",
      "execution_count": null,
      "metadata": {
        "colab": {
          "base_uri": "https://localhost:8080/",
          "height": 199
        },
        "id": "jgoBS9aHcYOO",
        "outputId": "ea4fd7fb-a40a-48b8-c50b-c8fd3a97b1c1"
      },
      "outputs": [
        {
          "data": {
            "text/html": [
              "\n",
              "<style>\n",
              "    /* Turns off some styling */\n",
              "    progress {\n",
              "        /* gets rid of default border in Firefox and Opera. */\n",
              "        border: none;\n",
              "        /* Needs to be in here for Safari polyfill so background images work as expected. */\n",
              "        background-size: auto;\n",
              "    }\n",
              "    progress:not([value]), progress:not([value])::-webkit-progress-bar {\n",
              "        background: repeating-linear-gradient(45deg, #7e7e7e, #7e7e7e 10px, #5c5c5c 10px, #5c5c5c 20px);\n",
              "    }\n",
              "    .progress-bar-interrupted, .progress-bar-interrupted::-webkit-progress-bar {\n",
              "        background: #F44336;\n",
              "    }\n",
              "</style>\n"
            ],
            "text/plain": [
              "<IPython.core.display.HTML object>"
            ]
          },
          "metadata": {},
          "output_type": "display_data"
        },
        {
          "data": {
            "text/html": [
              "\n",
              "    <div>\n",
              "      <progress value='811712512' class='' max='811706944' style='width:300px; height:20px; vertical-align: middle;'></progress>\n",
              "      100.00% [811712512/811706944 00:59&lt;00:00]\n",
              "    </div>\n",
              "    "
            ],
            "text/plain": [
              "<IPython.core.display.HTML object>"
            ]
          },
          "metadata": {},
          "output_type": "display_data"
        },
        {
          "name": "stderr",
          "output_type": "stream",
          "text": [
            "Downloading: \"https://download.pytorch.org/models/resnet34-b627a593.pth\" to /root/.cache/torch/hub/checkpoints/resnet34-b627a593.pth\n",
            "100%|██████████| 83.3M/83.3M [00:00<00:00, 90.6MB/s]\n"
          ]
        },
        {
          "data": {
            "text/html": [
              "\n",
              "<style>\n",
              "    /* Turns off some styling */\n",
              "    progress {\n",
              "        /* gets rid of default border in Firefox and Opera. */\n",
              "        border: none;\n",
              "        /* Needs to be in here for Safari polyfill so background images work as expected. */\n",
              "        background-size: auto;\n",
              "    }\n",
              "    progress:not([value]), progress:not([value])::-webkit-progress-bar {\n",
              "        background: repeating-linear-gradient(45deg, #7e7e7e, #7e7e7e 10px, #5c5c5c 10px, #5c5c5c 20px);\n",
              "    }\n",
              "    .progress-bar-interrupted, .progress-bar-interrupted::-webkit-progress-bar {\n",
              "        background: #F44336;\n",
              "    }\n",
              "</style>\n"
            ],
            "text/plain": [
              "<IPython.core.display.HTML object>"
            ]
          },
          "metadata": {},
          "output_type": "display_data"
        },
        {
          "data": {
            "text/html": [
              "<table border=\"1\" class=\"dataframe\">\n",
              "  <thead>\n",
              "    <tr style=\"text-align: left;\">\n",
              "      <th>epoch</th>\n",
              "      <th>train_loss</th>\n",
              "      <th>valid_loss</th>\n",
              "      <th>error_rate</th>\n",
              "      <th>time</th>\n",
              "    </tr>\n",
              "  </thead>\n",
              "  <tbody>\n",
              "    <tr>\n",
              "      <td>0</td>\n",
              "      <td>0.163383</td>\n",
              "      <td>0.030820</td>\n",
              "      <td>0.012179</td>\n",
              "      <td>00:48</td>\n",
              "    </tr>\n",
              "  </tbody>\n",
              "</table>"
            ],
            "text/plain": [
              "<IPython.core.display.HTML object>"
            ]
          },
          "metadata": {},
          "output_type": "display_data"
        },
        {
          "data": {
            "text/html": [
              "\n",
              "<style>\n",
              "    /* Turns off some styling */\n",
              "    progress {\n",
              "        /* gets rid of default border in Firefox and Opera. */\n",
              "        border: none;\n",
              "        /* Needs to be in here for Safari polyfill so background images work as expected. */\n",
              "        background-size: auto;\n",
              "    }\n",
              "    progress:not([value]), progress:not([value])::-webkit-progress-bar {\n",
              "        background: repeating-linear-gradient(45deg, #7e7e7e, #7e7e7e 10px, #5c5c5c 10px, #5c5c5c 20px);\n",
              "    }\n",
              "    .progress-bar-interrupted, .progress-bar-interrupted::-webkit-progress-bar {\n",
              "        background: #F44336;\n",
              "    }\n",
              "</style>\n"
            ],
            "text/plain": [
              "<IPython.core.display.HTML object>"
            ]
          },
          "metadata": {},
          "output_type": "display_data"
        },
        {
          "data": {
            "text/html": [
              "<table border=\"1\" class=\"dataframe\">\n",
              "  <thead>\n",
              "    <tr style=\"text-align: left;\">\n",
              "      <th>epoch</th>\n",
              "      <th>train_loss</th>\n",
              "      <th>valid_loss</th>\n",
              "      <th>error_rate</th>\n",
              "      <th>time</th>\n",
              "    </tr>\n",
              "  </thead>\n",
              "  <tbody>\n",
              "    <tr>\n",
              "      <td>0</td>\n",
              "      <td>0.055516</td>\n",
              "      <td>0.037565</td>\n",
              "      <td>0.012855</td>\n",
              "      <td>01:00</td>\n",
              "    </tr>\n",
              "  </tbody>\n",
              "</table>"
            ],
            "text/plain": [
              "<IPython.core.display.HTML object>"
            ]
          },
          "metadata": {},
          "output_type": "display_data"
        }
      ],
      "source": [
        "path = untar_data(URLs.PETS)/'images'\n",
        "\n",
        "is_cat = lambda x: x[0].isupper()\n",
        "dls = ImageDataLoaders.from_name_func(\n",
        "    path, get_image_files(path), valid_pct=0.2, seed=42,\n",
        "    label_func=is_cat, item_tfms=Resize(224))\n",
        "\n",
        "learn = vision_learner(dls, resnet34, metrics=error_rate)\n",
        "learn.fine_tune(1)"
      ]
    },
    {
      "cell_type": "markdown",
      "metadata": {
        "id": "ePXchmwOcYOO"
      },
      "source": [
        ":::{.callout-important}\n",
        "Depending on your network speed, it might take a few minutes to download the pretrained model and dataset. Running `fine_tune` might take a minute or so. Often models in this book take a few minutes to train, as will your own models, so it's a good idea to come up with good techniques to make the most of this time. For instance, keep reading the next section while training your model, or open up another notebook and use it for some coding experiments.\n",
        ":::"
      ]
    },
    {
      "cell_type": "markdown",
      "metadata": {
        "id": "3hZv4MJldUeX"
      },
      "source": [
        "After we have trained the model, we need to check if it can do something useful right? There are several ways we can do. The first way is to create an uploader for an interaction. This way is the simplest and suitable for users similiarized with *GUI*."
      ]
    },
    {
      "cell_type": "code",
      "execution_count": null,
      "metadata": {
        "colab": {
          "base_uri": "https://localhost:8080/",
          "height": 49,
          "referenced_widgets": [
            "20758989546a4aa2a7a6ebdedc449bff",
            "4338bc549b1a44d682e701df68043786",
            "2ca570ca7f044ea2a0820e95e30afdb1"
          ]
        },
        "id": "UXLHU39LetjM",
        "outputId": "3fee7a21-0606-4848-a7ff-f4cc0ab39722"
      },
      "outputs": [
        {
          "data": {
            "application/vnd.jupyter.widget-view+json": {
              "model_id": "20758989546a4aa2a7a6ebdedc449bff",
              "version_major": 2,
              "version_minor": 0
            },
            "text/plain": [
              "FileUpload(value={}, description='Upload')"
            ]
          },
          "metadata": {},
          "output_type": "display_data"
        }
      ],
      "source": [
        "from ipywidgets import FileUpload\n",
        "\n",
        "# This should prompt a uploader UI for file attachment\n",
        "uploader = FileUpload()\n",
        "uploader"
      ]
    },
    {
      "cell_type": "markdown",
      "metadata": {
        "id": "es111_DlfIB1"
      },
      "source": [
        "Or you can just past in a download link to `download_image` function provided by `fastai` library."
      ]
    },
    {
      "cell_type": "code",
      "execution_count": null,
      "metadata": {
        "id": "lpSSGsCsfSsN"
      },
      "outputs": [],
      "source": [
        "dest = Path(\"gdrive/My Drive/practical-deep-learning/bin/\")\n",
        "download_images(dest, urls=[\"https://i.icanvas.com/COC490?d=3&sh=v&s=xl&p=1&bg=g&t=1648830566\"])"
      ]
    },
    {
      "cell_type": "code",
      "execution_count": null,
      "metadata": {
        "colab": {
          "base_uri": "https://localhost:8080/",
          "height": 241
        },
        "id": "AbtTapUng7-Y",
        "outputId": "c116032f-7993-42b3-b819-e961eeac50fa"
      },
      "outputs": [
        {
          "data": {
            "image/png": "[encoded data removed]",
            "text/plain": [
              "<PIL.Image.Image image mode=RGB size=149x224>"
            ]
          },
          "execution_count": 23,
          "metadata": {},
          "output_type": "execute_result"
        }
      ],
      "source": [
        "img = PILImage.create(\"/content/gdrive/MyDrive/practical-deep-learning/bin/75083824-ac57-46d2-acdb-2e0678aba62f.jpg\")\n",
        "img.to_thumb(224)"
      ]
    },
    {
      "cell_type": "code",
      "execution_count": null,
      "metadata": {
        "colab": {
          "base_uri": "https://localhost:8080/",
          "height": 52
        },
        "id": "uuhc236neDXx",
        "outputId": "24aab50d-1b2d-4e59-c2b3-2400b13fd846"
      },
      "outputs": [
        {
          "data": {
            "text/html": [
              "\n",
              "<style>\n",
              "    /* Turns off some styling */\n",
              "    progress {\n",
              "        /* gets rid of default border in Firefox and Opera. */\n",
              "        border: none;\n",
              "        /* Needs to be in here for Safari polyfill so background images work as expected. */\n",
              "        background-size: auto;\n",
              "    }\n",
              "    progress:not([value]), progress:not([value])::-webkit-progress-bar {\n",
              "        background: repeating-linear-gradient(45deg, #7e7e7e, #7e7e7e 10px, #5c5c5c 10px, #5c5c5c 20px);\n",
              "    }\n",
              "    .progress-bar-interrupted, .progress-bar-interrupted::-webkit-progress-bar {\n",
              "        background: #F44336;\n",
              "    }\n",
              "</style>\n"
            ],
            "text/plain": [
              "<IPython.core.display.HTML object>"
            ]
          },
          "metadata": {},
          "output_type": "display_data"
        },
        {
          "data": {
            "text/html": [],
            "text/plain": [
              "<IPython.core.display.HTML object>"
            ]
          },
          "metadata": {},
          "output_type": "display_data"
        },
        {
          "name": "stdout",
          "output_type": "stream",
          "text": [
            "Is this a cat?: False.\n",
            "Probability it's a cat: 0.0357\n"
          ]
        }
      ],
      "source": [
        "is_cat, _, probs = learn.predict(img)\n",
        "\n",
        "print(f\"Is this a cat?: {is_cat}.\")\n",
        "print(f\"Probability it's a cat: {probs[1]:.4f}\")"
      ]
    },
    {
      "cell_type": "markdown",
      "metadata": {
        "id": "TMBPb5paiI-7"
      },
      "source": [
        "As you can see, the model can correctly classify even an image has some part that is not a dog! This is the power of a pre-trained model.\n",
        "\n",
        "But what does it actually doing? we will have a look more closer into the code."
      ]
    },
    {
      "cell_type": "markdown",
      "metadata": {
        "id": "jtQwbhQPX-f-"
      },
      "source": [
        "#### How Our Image Recognizer works\n",
        "\n",
        "Let's look through the code first.\n",
        "\n",
        "`untar_data` function has downloaded a standardard dataset from the [fast.ai datasets collection](https://course.fast.ai/datasets) (if not previously downloaded) to your server, extracts it (if not previously extracted), and returns a `Path` object with the extracted location:\n",
        "\n",
        "```python\n",
        "path = untar_data(URLs.PETS)/'images'\n",
        "```\n",
        "\n",
        "Next, we define a function, `is_cat`, which labels cats based on a filename rule provided by the dataset creators:\n",
        "\n",
        "```python\n",
        "is_cat = lambda x: x[0].isupper()\n",
        "```\n",
        "\n",
        "Then, we need to tell `fastai` what kind of dataset we have and how it is structured:\n",
        "\n",
        "```python\n",
        "dls = ImageDataLoaders.from_name_func(\n",
        "    path, get_image_files(path), valid_pct=0.2, seed=42,\n",
        "    label_func=is_cat, item_tfms=Resize(224))\n",
        "```\n",
        "\n",
        "There are various different classes for different kinds of deep learning datasets and problems—here we're using `ImageDataLoaders`. The first part of the class name will generally be the type of data you have, such as image, or text.\n",
        "\n",
        "The other important piece of information that we have to tell `fastai` is how to get the labels from the dataset. Computer vision datasets are normally structured in such a way that the label for an image is part of the filename, or path—most commonly the parent folder name. fastai comes with a number of standardized labeling methods, and ways to write your own. Here we're telling fastai to use the `is_cat` function we just defined.\n",
        "\n",
        "Finally, we define the `Transform`s that we need. A `Transform` contains code that is applied automatically during training; fastai includes many predefined `Transform`s, and adding new ones is as simple as creating a Python function. There are two kinds: `item_tfms` are applied to each item (in this case, each item is resized to a 224-pixel square), while `batch_tfms` are applied to a *batch* of items at a time using the GPU, so they're particularly fast!\n",
        "\n",
        "Why 224 pixels? This is the standard size for historical reasons (old pretrained models require this size exactly), but you can pass pretty much anything. If you increase the size, you'll often get a model with better results (since it will be able to focus on more details), but at the price of speed and memory consumption; the opposite is true if you decrease the size.\n",
        "\n",
        "The Pet dataset contains 7,390 pictures of dogs and cats, consisting of 37 different breeds. Each image is labeled using its filename: for instance the file *great\\_pyrenees\\_173.jpg* is the 173rd example of an image of a Great Pyrenees breed dog in the dataset. The filenames start with an uppercase letter if the image is a cat, and a lowercase letter otherwise. We have to tell `fastai` how to get labels from the filenames, which we do by calling `from_name_func` (which means that labels can be extracted using a function applied to the filename), and passing `is_cat`, which returns `x[0].isupper()`, which evaluates to `True` if the first letter is uppercase (i.e., it's a cat).\n",
        "\n",
        "The most important parameter to mention here is `valid_pct=0.2`. This tells `fastai` to hold out 20% of the data and *not use it for training the model at all*. This 20% of the data is called the *validation set*; the remaining 80% is called the *training set*. The validation set is used to measure the accuracy of the model. By default, the 20% that is held out is selected randomly. The parameter `seed=42` sets the *random seed* to the same value every time we run this code, which means we get the same validation set every time we run it—this way, if we change our model and retrain it, we know that any differences are due to the changes to the model, not due to having a different random validation set."
      ]
    },
    {
      "cell_type": "markdown",
      "metadata": {
        "id": "WwxmozdHX-f_"
      },
      "source": [
        "Next, it tells ``fastai` to create a *convolutional neural network* (CNN) and specifies what *architecture* to use (i.e. what kind of model to create), what data we want to train it on, and what *metric* to use:\n",
        "\n",
        "```python\n",
        "learn = vision_learner(dls, resnet34, metrics=error_rate)\n",
        "```\n",
        "\n",
        "Why a CNN? It's the current state-of-the-art approach to creating computer vision models. Their structure is inspired by how the human vision system works.\n",
        "\n",
        "There are many different architectures in `fastai`, which we will introduce in the later lecture (as well as discussing how to create your own). Most of the time, however, picking an architecture isn't a very important part of the deep learning process. It's something that academics love to talk about, but in practice it is unlikely to be something you need to spend much time on. There are some standard architectures that work most of the time, and in this case we're using one called _ResNet_ that we'll be talking a lot about during the book; it is both fast and accurate for many datasets and problems. The `34` in `resnet34` refers to the number of layers in this variant of the architecture (other options are `18`, `50`, `101`, and `152`). Models using architectures with more layers take longer to train, and are more prone to overfitting (i.e. you can't train them for as many epochs before the accuracy on the validation set starts getting worse). On the other hand, when using more data, they can be quite a bit more accurate.\n",
        "\n",
        "What is a metric? A *metric* is a function that measures the quality of the model's predictions using the validation set, and will be printed at the end of each *epoch*. In this case, we're using `error_rate`, which is a function provided by `fastai` that does just what it says: tells you what percentage of images in the validation set are being classified incorrectly. Another common metric for classification is `accuracy` (which is just `1.0 - error_rate`). There are many more to cover in the later lecture.\n",
        "\n",
        "The concept of a metric may remind you of *loss*, but there is an important distinction. The entire purpose of loss is to define a \"measure of performance\" that the training system can use to update weights automatically. In other words, a good choice for loss is a choice that is easy for stochastic gradient descent to use. But a metric is defined for human consumption, so a good metric is one that is easy for you to understand, and that hews as closely as possible to what you want the model to do. At times, you might decide that the loss function is a suitable metric, but that is not necessarily the case.\n",
        "\n",
        "`vision_learner` also has a parameter `pretrained`, which defaults to `True` (so it's used in this case, even though we haven't specified it), which sets the weights in your model to values that have already been trained by experts to recognize a thousand different categories across 1.3 million photos (using the famous [*ImageNet* dataset](http://www.image-net.org/)). A model that has weights that have already been trained on some other dataset is called a *pretrained model*. You should nearly always use a pretrained model, because it means that your model, before you've even shown it any of your data, is already very capable. And, as you'll see, in a deep learning model many of these capabilities are things you'll need, almost regardless of the details of your project. For instance, parts of pretrained models will handle edge, gradient, and color detection, which are needed for many tasks.\n",
        "\n",
        "When using a pretrained model, `vision_learner` will remove the last layer, since that is always specifically customized to the original training task (i.e. ImageNet dataset classification), and replace it with one or more new layers with randomized weights, of an appropriate size for the dataset you are working with. This last part of the model is known as the *head*.\n",
        "\n",
        "Using pretrained models is the *most* important method we have to allow us to train more accurate models, more quickly, with less data, and less time and money. You might think that would mean that using pretrained models would be the most studied area in academic deep learning... but you'd be very, very wrong! The importance of pretrained models is generally not recognized or discussed in most courses, books, or software library features, and is rarely considered in academic papers.\n",
        "\n",
        "Using a pretrained model for a task different to what it was originally trained for is known as *transfer learning*. Unfortunately, because transfer learning is so under-studied, few domains have pretrained models available. For instance, there are currently few pretrained models available in medicine, making transfer learning challenging to use in that domain. In addition, it is not yet well understood how to use transfer learning for tasks such as time series analysis.\n",
        "\n",
        ":::{.callout-note}\n",
        "Transfer learning: using a pretrained model for a task different to what it was originally trained for.\n",
        ":::"
      ]
    },
    {
      "cell_type": "markdown",
      "metadata": {
        "id": "q0npWvuvX-f_"
      },
      "source": [
        "Here comes our training part. Our code tells `fastai` how to *fit* the model:\n",
        "\n",
        "```python\n",
        "learn.fine_tune(1)\n",
        "```\n",
        "\n",
        "As we've discussed, the architecture only describes a *template* for a mathematical function; it doesn't actually do anything until we provide values for the millions of parameters it contains.\n",
        "\n",
        "This is the key to deep learning—determining how to fit the parameters of a model to get it to solve your problem. In order to fit a model, we have to provide at least one piece of information: how many times to look at each image (known as number of *epochs*). The number of epochs you select will largely depend on how much time you have available, and how long you find it takes in practice to fit your model. If you select a number that is too small, you can always train for more epochs later.\n",
        "\n",
        "But why is the method called `fine_tune`, and not `fit`? `fastai` actually *does* have a method called `fit`, which does indeed fit a model (i.e. look at images in the training set multiple times, each time updating the parameters to make the predictions closer and closer to the target labels). But in this case, we've started with a pretrained model, and we don't want to throw away all those capabilities that it already has. There are some important tricks that we are going to learn throughout the course to adapt a pretrained model for a new dataset — a process called *fine-tuning*.\n",
        "\n",
        ":::{.callout-note}\n",
        "Fine-tuning: a transfer learning technique where the parameters of a pretrained model are updated by training for additional epochs using a similar task and dataset.\n",
        ":::\n",
        "\n",
        "When you use the `fine_tune` method, `fastai` will use these tricks for you. There are a few parameters you can set (which we'll discuss later), but in the default form shown here, it does two steps:\n",
        "\n",
        "1. Use one epoch to fit just those parts of the model necessary to get the new random head to work correctly with your dataset.\n",
        "1. Use the number of epochs requested when calling the method to fit the entire model, updating the weights of the later layers (especially the head) faster than the earlier layers (which, as we'll see, generally don't require many changes from the pretrained weights).\n",
        "\n",
        "The *head* of a model is the part that is newly added to be specific to the new dataset. An *epoch* is one complete pass through the dataset. After calling `fit`, the results after each epoch are printed, showing the epoch number, the training and validation set losses (the \"measure of performance\" used for training the model), and any *metrics* you've requested (error rate, in this case)."
      ]
    },
    {
      "cell_type": "markdown",
      "metadata": {
        "id": "yIvgXWedX-f_"
      },
      "source": [
        "#### Whar Our Image Recognizer Learned\n",
        "\n",
        "Before going to the next section, we have already know what our code has been doing. That's good!\n",
        "\n",
        "But intuition behind it, it also important for you as there is the key you can use to adapt this code to any kind of problems.\n",
        "\n",
        "In 2013 a PhD student, Matt Zeiler, and his supervisor, Rob Fergus, published the paper [\"Visualizing and Understanding Convolutional Networks\"](https://arxiv.org/pdf/1311.2901.pdf), which showed how to visualize the neural network weights learned in each layer of a model. They carefully analyzed the model that won the 2012 ImageNet competition, and used this analysis to greatly improve the model, such that they were able to go on to win the 2013 competition!\n",
        "\n",
        "You can see pictures of each layer in their paper. So, I am going to summarize here:\n",
        "\n",
        "> As the layer go deeper, the model learns more sophiticated features.\n",
        "\n",
        "This statement provides an inspiration to what neural networks do in what so called the \"blackbox\". Also, it is a confirmation that neural networks themselves have the ability to learn feature on theirown. This gives us a lot of potential:\n",
        "\n",
        "* We do not need *hand-crafted features* and preserve the nature of dataset.\n",
        "* Flexibility on how to use the neural networks on every possible data format that you can imagine."
      ]
    },
    {
      "cell_type": "markdown",
      "metadata": {
        "id": "WyB9ON28X-f_"
      },
      "source": [
        "## What Is Machine Learning?\n",
        "\n",
        "Now that we have learn deep learning through hands-on exercise, It is time to dig a lit bit deeper into it. We will start with *Machine Learning*.\n",
        "\n",
        "This term is like a primitive to *Deep Learning*. What is means is that it is another paradiagm (as opposed to *Traditional Programming*) to get computers to complete a specific task. The key difference is here:\n",
        "\n",
        "> ML provides an ability for a computer to learn without explitcitly being programmed\n",
        "\n",
        "Here is [an introduction to machine learning](https://vas3k.com/blog/machine_learning/) that I find easily to get started. This blog includes the main concepts and its real-world examples."
      ]
    },
    {
      "cell_type": "markdown",
      "metadata": {
        "id": "u4Jqvs_ckqRO"
      },
      "source": [
        "Now, back to business, the basic of every traditional program should look like this:\n",
        "\n",
        "```{mermaid}\n",
        "flowchart LR;\n",
        "    A([inputs]) --> B[program] --> C([results]);\n",
        "```\n",
        "\n",
        "However, for tasks like image recognition. It is almost impossible for you as a programmer who write an *instruction* to turn *inputs* into *results* as we are human that can do it unconsciouly. Therefore, the new paradiagm to the problem comes in. **Machine Learning** seem like a good way to solve the problem but in reality how can we implement it.\n",
        "\n",
        "Remember *PDP* framework? we need various components for a computer to utilize in order to acheive our goal. The concepts like \"weight assignment\" and \"performance evaluation\" have emerged though it is crucial for a computer to do it automatically. So, we also need some **mechanism** to provide the ability to automate the process of improvement and make sure that the model can do whatever it is required to do. Here is the summary of what it should be look like:\n",
        "\n",
        "```{mermaid}\n",
        "flowchart LR;\n",
        "    A([inputs]) --> C[model];\n",
        "    B([weights]) --> C[model];\n",
        "    C[model] --> D([results]);\n",
        "    D([results]) --> E([performance]);\n",
        "    E([performance]) -- update --> B([weights]);\n",
        "```\n",
        "\n",
        "Such **mechanism** keep the model going toward perfection as it iteratively update weights. Also note that once the model is finished training, the weight themselves act as a part of the model.\n",
        "\n",
        "So, the simplfied version of it would be something which quite similar to what traditional programming is:\n",
        "\n",
        "```{mermaid}\n",
        "flowchart LR;\n",
        "    A([inputs]) --> B[model] --> C([results]);\n",
        "```"
      ]
    },
    {
      "cell_type": "markdown",
      "metadata": {
        "id": "gn4jR0CTX-f_"
      },
      "source": [
        "### What Is a Neural Network?\n",
        "\n",
        "*Neural Network* is just another algorithm for *Machine Learning* like *Random Forest* or *Gradient Boosting* and that's it! That is a neural network in a nutshell.\n",
        "\n",
        "Although neural network seems very complex, the beginning of it is quite intuitive as it is inspired by the human brain cells using a mathematical function and it turns out to be a very powerful and flexible function which depends only on its weights. A mathematical proof called the *universal approximation theorem* shows that this function can solve any problem to any level of accuracy, in theory.\n",
        "\n",
        "However, in practice there are many caveats to it like the quality of dataset, the hardware computation used to run those neural networks or the trade-off between time and cost of big networks.\n",
        "\n",
        "Nowadays, the term *Deep Learning* has replaced *Neural Network* as nobody build a couple layers of the network anymore. People tends to go **deeper** like the name suggested. Thanks to its graph-like nature, it is still quickly understandable through visual representation and great resources online help practitioner a lot in doing so.\n",
        "\n",
        "Alright but here comes the question — if we have such a good template or so called \"architecture\" let say a very deep one, then how we are going to train it? how we know that it is optimized with the correct set of weights?\n",
        "\n",
        "The answer is we need a **mechanism** like in traditional machine learning. But in deep learning, this mechanism is called *stochastic gradient descent* (SGD). Unlike in the traditional machine learning, SGD is also very flexible and can be used to update weights in every architectures that we can imagine. Here is a process looks like:\n",
        "\n",
        "```{mermaid}\n",
        "flowchart LR;\n",
        "    A([inputs]) --> C[architecture];\n",
        "    B([parameters]) --> C[architecture];\n",
        "    C[architecture] --> D([predictions]);\n",
        "    D([predictions]) --> E([loss]);\n",
        "    E([loss]) -- update --> B([parameters]);\n",
        "```\n",
        "\n",
        "As you can see, although we use different terminologies, they are basically the same. The only thing I need to point out is in deep learning, we use SGD to optimize our model parameters."
      ]
    },
    {
      "cell_type": "markdown",
      "metadata": {
        "id": "qosnYEBnX-gA"
      },
      "source": [
        "### Tips and Tricks\n",
        "\n",
        "In machine learning, of course it has a limitation but this should not stop you and I will tell you the important tips and tricks on how to handle it and provide you with an inspiration of its potential so that you will have a solid foundation to be able to complete any task that you are interested in.\n",
        "\n",
        "Here is a [Machine Learning tips and tricks](https://stanford.edu/~shervine/teaching/cs-229/cheatsheet-machine-learning-tips-and-tricks) and [Deep Learning Tips and Tricks](https://stanford.edu/~shervine/teaching/cs-230/cheatsheet-deep-learning-tips-and-tricks) that I find useful."
      ]
    },
    {
      "cell_type": "markdown",
      "metadata": {
        "id": "FWCxQBmBX-gA"
      },
      "source": [
        "#### Solve a problem with data preprocessing\n",
        "\n",
        "This in my opinion the most powerful tips and tricks that I want to hightlight. As you can see from the example, an image recognizer is very handy when it comes to image classification task.\n",
        "\n",
        "But can it tackle something that is not related to an image? — Actually it can and it can do it pretty well too."
      ]
    },
    {
      "cell_type": "markdown",
      "metadata": {
        "id": "CAMqpEhmX-gA"
      },
      "source": [
        "For instance, a sound can be converted to a spectrogram, which is a chart that shows the amount of each frequency at each time in an audio file. Fast.ai student Ethan Sutin used this approach to easily beat the published accuracy of a state-of-the-art [environmental sound detection model](https://medium.com/@etown/great-results-on-audio-classification-with-fastai-library-ccaf906c5f52) using a dataset of 8,732 urban sounds. fastai's `show_batch` clearly shows how each different sound has a quite distinctive spectrogram\n",
        "\n",
        "<img alt=\"show_batch with spectrograms of sounds\" width=\"400\" caption=\"show_batch with spectrograms of sounds\" id=\"img_spect\" src=\"https://github.com/fastai/fastbook/blob/master/images/att_00012.png?raw=1\">"
      ]
    },
    {
      "cell_type": "markdown",
      "metadata": {
        "id": "GOALwGR-X-gA"
      },
      "source": [
        "A time series can easily be converted into an image by simply plotting the time series on a graph. However, it is often a good idea to try to represent your data in a way that makes it as easy as possible to pull out the most important components. In a time series, things like seasonality and anomalies are most likely to be of interest. There are various transformations available for time series data. For instance, fast.ai student Ignacio Oguiza created images from a time series dataset for olive oil classification, using a technique called Gramian Angular Difference Field (GADF). He then fed those images to an image classification model just like the one you see in this chapter. His results, despite having only 30 training set images, were well over 90% accurate, and close to the state of the art.\n",
        "\n",
        "<img alt=\"Converting a time series into an image\" width=\"700\" caption=\"Converting a time series into an image\" id=\"ts_image\" src=\"https://github.com/fastai/fastbook/blob/master/images/att_00013.png?raw=1\">"
      ]
    },
    {
      "cell_type": "markdown",
      "metadata": {
        "id": "iWP6C-_IX-gA"
      },
      "source": [
        "It change our way of thinking as well. It shows that:\n",
        "\n",
        "> Deep learning is very powerful tool for you to use, you just need to find a way to properly represent your data to it\n",
        "\n",
        "Note that some techniques require only intuition of the data like an environmental sound detection model. However, some demands more in-depth methods to handle the data such as a olive oil classification. Someone might refer to it as \"hacky workarounds\"."
      ]
    },
    {
      "cell_type": "markdown",
      "metadata": {
        "id": "HT0aT8HWX-gA"
      },
      "source": [
        "#### Biases in Dataset\n",
        "\n",
        "There are several ways that you can do that makes your project getting a bias result. Most parts come from the way you handle your data.\n",
        "\n",
        "##### Data collection\n",
        "The first process that you can give a bias to your data is when you are collecting them. Generally speaking, we've seen that most organizations that say they don't have enough data, actually mean they don't have enough *labeled* data. So, they need to gather it.\n",
        "\n",
        "I want to pause here a bit. As datasets is very critical to the model like a food. So, throughout the course, think about where the dataset might have come from, and how they might have been curated. Then think about what kinds of interesting datasets you could create for your own projects. Trust me, this will also be a valuable skill for you as a practitioner.\n",
        "\n",
        "Back to business, Gathering data might create what so called *feedback loops*, as describe here:\n",
        "\n",
        "- A *predictive policing* model is created based on where arrests have been made in the past. In practice, this is not actually predicting crime, but rather predicting arrests, and is therefore partially simply reflecting biases in existing policing processes.\n",
        "- Law enforcement officers then might use that model to decide where to focus their police activity, resulting in increased arrests in those areas.\n",
        "- Data on these additional arrests would then be fed back in to retrain future versions of the model.\n",
        "\n",
        "This is a *positive feedback loop*, where the more the model is used, the more biased the data becomes, making the model even more biased, and so forth.\n",
        "\n",
        "Feedback loops can also create problems in commercial settings. For instance, a video recommendation system might be biased toward recommending content consumed by the biggest watchers of video (e.g., conspiracy theorists and extremists tend to watch more online video content than the average), resulting in those users increasing their video consumption, resulting in more of those kinds of videos being recommended. We'll consider this topic more in detail in the later chapter about ethics."
      ]
    },
    {
      "cell_type": "markdown",
      "metadata": {
        "id": "GADzBXXmX-gA"
      },
      "source": [
        "##### Validation Set and Test Set\n",
        "\n",
        "In practice, what you want to do really is making your model working for others. Therefore, validation and evaluation your model are the important steps as well as training which if you have done it properly, we are one step closer to your goal!\n",
        "\n",
        "To do this, our first step was to split our dataset into two sets: the *training set* (which our model sees in training) and the *validation set*, also known as the *development set* (which is used only for evaluation). This lets us test that the model learns lessons from the training data that generalize to new data, the validation data.\n",
        "\n",
        "One way to understand this situation is that, in a sense, we don't want our model to get good results by \"cheating.\" If it makes an accurate prediction for a data item, that should be because it has learned characteristics of that kind of item, and not because the model has been shaped by *actually having seen that particular item*.\n",
        "\n",
        "Splitting off our validation data means our model never sees it in training and so is completely untainted by it, and is not cheating in any way. Right?\n",
        "\n",
        "In fact, not necessarily. The situation is more subtle. This is because in realistic scenarios we rarely build a model just by training its weight parameters once. Instead, we are likely to explore many versions of a model through various modeling choices regarding network architecture, learning rates, data augmentation strategies, and other factors we will discuss in upcoming chapters. Many of these choices can be described as choices of *hyperparameters*. The word reflects that they are parameters about parameters, since they are the higher-level choices that govern the meaning of the weight parameters.\n",
        "\n",
        "The problem is that even though the ordinary training process is only looking at predictions on the training data when it learns values for the weight parameters, the same is not true of us. We, as modelers, are evaluating the model by looking at predictions on the validation data when we decide to explore new hyperparameter values! So subsequent versions of the model are, indirectly, shaped by us having seen the validation data. Just as the automatic training process is in danger of overfitting the training data, we are in danger of overfitting the validation data through human trial and error and exploration.\n",
        "\n",
        "The solution to this conundrum is to introduce another level of even more highly reserved data, the *test set*. Just as we hold back the validation data from the training process, we must hold back the test set data even from ourselves. It cannot be used to improve the model; it can only be used to evaluate the model at the very end of our efforts. In effect, we define a hierarchy of cuts of our data, based on how fully we want to hide it from training and modeling processes: training data is fully exposed, the validation data is less exposed, and test data is totally hidden. This hierarchy parallels the different kinds of modeling and evaluation processes themselves—the automatic training process with back propagation, the more manual process of trying different hyper-parameters between training sessions, and the assessment of our final result.\n",
        "\n",
        "The test and validation sets should have enough data to ensure that you get a good estimate of your accuracy. If you're creating a cat detector, for instance, you generally want at least 30 cats in your validation set. That means that if you have a dataset with thousands of items, using the default 20% validation set size may be more than you need. On the other hand, if you have lots of data, using some of it for validation probably doesn't have any downsides.\n",
        "\n",
        "Having two levels of \"reserved data\"—a validation set and a test set, with one level representing data that you are virtually hiding from yourself—may seem a bit extreme. But the reason it is often necessary is because models tend to gravitate toward the simplest way to do good predictions (memorization), and we as fallible humans tend to gravitate toward fooling ourselves about how well our models are performing. The discipline of the test set helps us keep ourselves intellectually honest. That doesn't mean we *always* need a separate test set—if you have very little data, you may need to just have a validation set—but generally it's best to use one if at all possible.\n",
        "\n",
        "This same discipline can be critical if you intend to hire a third party to perform modeling work on your behalf. A third party might not understand your requirements accurately, or their incentives might even encourage them to misunderstand them. A good test set can greatly mitigate these risks and let you evaluate whether their work solves your actual problem.\n",
        "\n",
        "To put it bluntly, if you're a senior decision maker in your organization (or you're advising senior decision makers), the most important takeaway is this: if you ensure that you really understand what test and validation sets are and why they're important, then you'll avoid the single biggest source of failures we've seen when organizations decide to use AI. For instance, if you're considering bringing in an external vendor or service, make sure that you hold out some test data that the vendor *never gets to see*. Then *you* check their model on your test data, using a metric that *you* choose based on what actually matters to you in practice, and *you* decide what level of performance is adequate. (It's also a good idea for you to try out some simple baseline yourself, so you know what a really simple model can achieve. Often it'll turn out that your simple model performs just as well as one produced by an external \"expert\"!)"
      ]
    },
    {
      "cell_type": "markdown",
      "metadata": {
        "id": "7YboWeTxX-gB"
      },
      "source": [
        "##### Data Leakage\n",
        "\n",
        "This is a very hard to detect problem as the name suggests. So, it easier to provide an example to you:\n",
        "\n",
        "In the Kaggle [distracted driver competition](https://www.kaggle.com/c/state-farm-distracted-driver-detection), the independent variables are pictures of drivers at the wheel of a car, and the dependent variables are categories such as texting, eating, or safely looking ahead. Lots of pictures are of the same drivers in different positions. If you were an insurance company building a model from this data, note that you would be most interested in how the model performs on drivers it hasn't seen before (since you would likely have training data only for a small group of people). In recognition of this, the test data for the competition consists of images of people that don't appear in the training set.\n",
        "\n",
        "<img src=\"https://github.com/fastai/fastbook/blob/master/images/driver.PNG?raw=1\" width=\"600\" id=\"img_driver\" caption=\"Two pictures from the training data\" alt=\"Two pictures from the training data, showing the same driver\">\n",
        "\n",
        "If you put one of the images in your training set and one in the validation set, your model will have an easy time making a prediction for the one in the validation set, so it will seem to be performing better than it would on new people. Another perspective is that if you used all the people in training your model, your model might be overfitting to particularities of those specific people, and not just learning the states (texting, eating, etc.).\n",
        "\n",
        "As you can see from the example, there is no single solution to this. So, keep in mind that\n",
        "\n",
        "> Use Judgement in Defining Test Sets."
      ]
    },
    {
      "cell_type": "markdown",
      "metadata": {
        "id": "8wD896-5X-gB"
      },
      "source": [
        "##### Bias and Variance Tradeoff\n",
        "\n",
        "<img src=\"https://github.com/fastai/fastbook/blob/master/images/att_00000.png?raw=1\" alt=\"Example of overfitting\" caption=\"Example of overfitting\" id=\"img_overfit\" width=\"700\">\n",
        "\n",
        "**Overfitting is the single most important and challenging issue** when training for all machine learning practitioners, and all algorithms. As you will see, it is very easy to create a model that does a great job at making predictions on the exact data it has been trained on, but it is much harder to make accurate predictions on data the model has never seen before. And of course, this is the data that will actually matter in practice. For instance, if you create a handwritten digit classifier and use it to recognize numbers written on checks, then you are never going to see any of the numbers that the model was trained on—checks will have slightly different variations of writing to deal with. You will learn many methods to avoid overfitting in this course.\n",
        "\n",
        "However, you should only use those methods after you have confirmed that overfitting is actually occurring (i.e., you have actually observed the validation accuracy getting worse during training). We often see practitioners using over-fitting avoidance techniques even when they have enough data that they didn't need to do so, ending up with a model that may be less accurate than what they could have achieved (i.e., *underfitting*)\n",
        "\n",
        "> A good model is the one that can generalize well over underlying patterns in the data. Not the model that memorize everything!"
      ]
    },
    {
      "cell_type": "markdown",
      "metadata": {
        "id": "ytxTtm8ZX-gB"
      },
      "source": [
        "##### Prediction Is Not a Recommendation\n",
        "\n",
        "Last, it is about the misconception of machine learning itself. In my opinion, it is very crucial for you as a practitioner to convey this message to all stakeholders involved in the project\n",
        "\n",
        "> A model only creates predictions, not recommends actions."
      ]
    },
    {
      "cell_type": "markdown",
      "metadata": {
        "id": "X4jVYN14X-gB"
      },
      "source": [
        "## Deep Learning Is Not Just for Image Classification\n",
        "\n",
        "Most examples usually in computer vision tasks. The reason is that it can be understand easily via a visual representation way of the problem. However, it is not necessary the case. Deep learning is far more valuabe and useful than that."
      ]
    },
    {
      "cell_type": "markdown",
      "metadata": {
        "id": "FSUElDKeX-gB"
      },
      "source": [
        "### Image Segmentation\n",
        "\n",
        "For instance, let's talk about something that is critically important for autonomous vehicles: localizing objects in a picture. If a self-driving car doesn't know where a pedestrian is, then it doesn't know how to avoid one! Creating a model that can recognize the content of every individual pixel in an image is called *segmentation*. Here is how we can train a segmentation model with `fastai`, using a subset of the [*Camvid* dataset](http://www0.cs.ucl.ac.uk/staff/G.Brostow/papers/Brostow_2009-PRL.pdf) from the paper \"Semantic Object Classes in Video: A High-Definition Ground Truth Database\" by Gabruel J. Brostow, Julien Fauqueur, and Roberto Cipolla:"
      ]
    },
    {
      "cell_type": "code",
      "execution_count": 4,
      "metadata": {
        "colab": {
          "base_uri": "https://localhost:8080/",
          "height": 37
        },
        "id": "ntgWLujyYyzk",
        "outputId": "7964b278-d8cf-4eae-d0f9-d890e4a5b8db"
      },
      "outputs": [
        {
          "data": {
            "text/html": [
              "\n",
              "<style>\n",
              "    /* Turns off some styling */\n",
              "    progress {\n",
              "        /* gets rid of default border in Firefox and Opera. */\n",
              "        border: none;\n",
              "        /* Needs to be in here for Safari polyfill so background images work as expected. */\n",
              "        background-size: auto;\n",
              "    }\n",
              "    progress:not([value]), progress:not([value])::-webkit-progress-bar {\n",
              "        background: repeating-linear-gradient(45deg, #7e7e7e, #7e7e7e 10px, #5c5c5c 10px, #5c5c5c 20px);\n",
              "    }\n",
              "    .progress-bar-interrupted, .progress-bar-interrupted::-webkit-progress-bar {\n",
              "        background: #F44336;\n",
              "    }\n",
              "</style>\n"
            ],
            "text/plain": [
              "<IPython.core.display.HTML object>"
            ]
          },
          "metadata": {},
          "output_type": "display_data"
        },
        {
          "data": {
            "text/html": [
              "\n",
              "    <div>\n",
              "      <progress value='2318336' class='' max='2314212' style='width:300px; height:20px; vertical-align: middle;'></progress>\n",
              "      100.18% [2318336/2314212 00:00&lt;00:00]\n",
              "    </div>\n",
              "    "
            ],
            "text/plain": [
              "<IPython.core.display.HTML object>"
            ]
          },
          "metadata": {},
          "output_type": "display_data"
        }
      ],
      "source": [
        "path = untar_data(URLs.CAMVID_TINY)"
      ]
    },
    {
      "cell_type": "code",
      "execution_count": 19,
      "metadata": {
        "colab": {
          "base_uri": "https://localhost:8080/",
          "height": 113
        },
        "id": "y5OLLJXlZSg1",
        "outputId": "9614c272-9b8e-4ff5-f76a-ae52059d9972"
      },
      "outputs": [
        {
          "data": {
            "image/png": "[encoded data removed]",
            "text/plain": [
              "<PIL.Image.Image image mode=RGB size=128x96>"
            ]
          },
          "execution_count": 19,
          "metadata": {},
          "output_type": "execute_result"
        }
      ],
      "source": [
        "# Get a glimpse of what an image looks like\n",
        "img = PILImage.create(\"/root/.fastai/data/camvid_tiny/images/0001TP_006750.png\")\n",
        "img.to_thumb(224)"
      ]
    },
    {
      "cell_type": "code",
      "execution_count": 20,
      "metadata": {
        "colab": {
          "base_uri": "https://localhost:8080/",
          "height": 113
        },
        "id": "gSCKmz-EaBmY",
        "outputId": "1a6a4663-513e-4bf4-d29a-47243914a7c8"
      },
      "outputs": [
        {
          "data": {
            "image/png": "[encoded data removed]",
            "text/plain": [
              "<PIL.Image.Image image mode=RGB size=128x96>"
            ]
          },
          "execution_count": 20,
          "metadata": {},
          "output_type": "execute_result"
        }
      ],
      "source": [
        "# Get a glimpse of what a label looks like\n",
        "img = PILImage.create(\"/root/.fastai/data/camvid_tiny/labels/0001TP_006750_P.png\")\n",
        "img.to_thumb(224)"
      ]
    },
    {
      "cell_type": "markdown",
      "metadata": {
        "id": "11Kmljj4ap1K"
      },
      "source": [
        "A lable is quite hard to see though but there are hilights between each object in the image."
      ]
    },
    {
      "cell_type": "markdown",
      "metadata": {
        "id": "VUMwZBXYa7xH"
      },
      "source": [
        "Next, we prepare `DataLoader` object like image classification task."
      ]
    },
    {
      "cell_type": "code",
      "execution_count": 39,
      "metadata": {
        "id": "R0kxs8AtX-gB"
      },
      "outputs": [],
      "source": [
        "dls = SegmentationDataLoaders.from_label_func(\n",
        "    path, fnames=get_image_files(path/\"images\"),\n",
        "    label_func=lambda x: path/\"labels\"/f\"{x.stem}_P{x.suffix}\",\n",
        "    codes=np.loadtxt(path/\"codes.txt\", dtype=str), bs=8, seed=42\n",
        ")"
      ]
    },
    {
      "cell_type": "markdown",
      "metadata": {
        "id": "xKIacKfWb5lU"
      },
      "source": [
        "We need to talk a little bit more about `SegmentationDataLoaders` and its method `from_label_func`. Basically, what this object will do is similar to `ImageDataLoaders`. So, I will focus on the method itself. According to the documentation, this method will create a `SegementationDataLoaders` from list of `fnames` in `path`s with `label_func`. The key is `label_func` here:\n",
        "\n",
        "What it does is to return the an index from the each image filename. Those indicies will then be mapped with `codes` to be labels in each image.\n",
        "\n",
        "Last, it our `bs` which stands for *batch size*. It is the number of sampling data that will be trained on SGD at a time."
      ]
    },
    {
      "cell_type": "markdown",
      "metadata": {
        "id": "4-rYZMj6dS8x"
      },
      "source": [
        "Last, we train our `learner` in this case `unet_learner` which is a successful architecture for image segmentation task. We also provide `resnet` as a part of `unet` architecture."
      ]
    },
    {
      "cell_type": "code",
      "execution_count": 40,
      "metadata": {
        "colab": {
          "base_uri": "https://localhost:8080/",
          "height": 427
        },
        "id": "7z7sM7eAfUcX",
        "outputId": "c43515c3-b04f-450a-cd29-28ec6c228ac5"
      },
      "outputs": [
        {
          "data": {
            "text/html": [
              "\n",
              "<style>\n",
              "    /* Turns off some styling */\n",
              "    progress {\n",
              "        /* gets rid of default border in Firefox and Opera. */\n",
              "        border: none;\n",
              "        /* Needs to be in here for Safari polyfill so background images work as expected. */\n",
              "        background-size: auto;\n",
              "    }\n",
              "    progress:not([value]), progress:not([value])::-webkit-progress-bar {\n",
              "        background: repeating-linear-gradient(45deg, #7e7e7e, #7e7e7e 10px, #5c5c5c 10px, #5c5c5c 20px);\n",
              "    }\n",
              "    .progress-bar-interrupted, .progress-bar-interrupted::-webkit-progress-bar {\n",
              "        background: #F44336;\n",
              "    }\n",
              "</style>\n"
            ],
            "text/plain": [
              "<IPython.core.display.HTML object>"
            ]
          },
          "metadata": {},
          "output_type": "display_data"
        },
        {
          "data": {
            "text/html": [
              "<table border=\"1\" class=\"dataframe\">\n",
              "  <thead>\n",
              "    <tr style=\"text-align: left;\">\n",
              "      <th>epoch</th>\n",
              "      <th>train_loss</th>\n",
              "      <th>valid_loss</th>\n",
              "      <th>time</th>\n",
              "    </tr>\n",
              "  </thead>\n",
              "  <tbody>\n",
              "    <tr>\n",
              "      <td>0</td>\n",
              "      <td>2.915763</td>\n",
              "      <td>2.578525</td>\n",
              "      <td>00:01</td>\n",
              "    </tr>\n",
              "  </tbody>\n",
              "</table>"
            ],
            "text/plain": [
              "<IPython.core.display.HTML object>"
            ]
          },
          "metadata": {},
          "output_type": "display_data"
        },
        {
          "data": {
            "text/html": [
              "\n",
              "<style>\n",
              "    /* Turns off some styling */\n",
              "    progress {\n",
              "        /* gets rid of default border in Firefox and Opera. */\n",
              "        border: none;\n",
              "        /* Needs to be in here for Safari polyfill so background images work as expected. */\n",
              "        background-size: auto;\n",
              "    }\n",
              "    progress:not([value]), progress:not([value])::-webkit-progress-bar {\n",
              "        background: repeating-linear-gradient(45deg, #7e7e7e, #7e7e7e 10px, #5c5c5c 10px, #5c5c5c 20px);\n",
              "    }\n",
              "    .progress-bar-interrupted, .progress-bar-interrupted::-webkit-progress-bar {\n",
              "        background: #F44336;\n",
              "    }\n",
              "</style>\n"
            ],
            "text/plain": [
              "<IPython.core.display.HTML object>"
            ]
          },
          "metadata": {},
          "output_type": "display_data"
        },
        {
          "data": {
            "text/html": [
              "<table border=\"1\" class=\"dataframe\">\n",
              "  <thead>\n",
              "    <tr style=\"text-align: left;\">\n",
              "      <th>epoch</th>\n",
              "      <th>train_loss</th>\n",
              "      <th>valid_loss</th>\n",
              "      <th>time</th>\n",
              "    </tr>\n",
              "  </thead>\n",
              "  <tbody>\n",
              "    <tr>\n",
              "      <td>0</td>\n",
              "      <td>1.791474</td>\n",
              "      <td>1.675884</td>\n",
              "      <td>00:01</td>\n",
              "    </tr>\n",
              "    <tr>\n",
              "      <td>1</td>\n",
              "      <td>1.564460</td>\n",
              "      <td>1.348752</td>\n",
              "      <td>00:01</td>\n",
              "    </tr>\n",
              "    <tr>\n",
              "      <td>2</td>\n",
              "      <td>1.376029</td>\n",
              "      <td>1.171540</td>\n",
              "      <td>00:01</td>\n",
              "    </tr>\n",
              "    <tr>\n",
              "      <td>3</td>\n",
              "      <td>1.254213</td>\n",
              "      <td>1.017833</td>\n",
              "      <td>00:01</td>\n",
              "    </tr>\n",
              "    <tr>\n",
              "      <td>4</td>\n",
              "      <td>1.130328</td>\n",
              "      <td>0.951614</td>\n",
              "      <td>00:01</td>\n",
              "    </tr>\n",
              "    <tr>\n",
              "      <td>5</td>\n",
              "      <td>1.030382</td>\n",
              "      <td>0.845308</td>\n",
              "      <td>00:01</td>\n",
              "    </tr>\n",
              "    <tr>\n",
              "      <td>6</td>\n",
              "      <td>0.939838</td>\n",
              "      <td>0.822760</td>\n",
              "      <td>00:01</td>\n",
              "    </tr>\n",
              "    <tr>\n",
              "      <td>7</td>\n",
              "      <td>0.864249</td>\n",
              "      <td>0.814584</td>\n",
              "      <td>00:01</td>\n",
              "    </tr>\n",
              "    <tr>\n",
              "      <td>8</td>\n",
              "      <td>0.802218</td>\n",
              "      <td>0.800724</td>\n",
              "      <td>00:01</td>\n",
              "    </tr>\n",
              "    <tr>\n",
              "      <td>9</td>\n",
              "      <td>0.752931</td>\n",
              "      <td>0.790928</td>\n",
              "      <td>00:01</td>\n",
              "    </tr>\n",
              "  </tbody>\n",
              "</table>"
            ],
            "text/plain": [
              "<IPython.core.display.HTML object>"
            ]
          },
          "metadata": {},
          "output_type": "display_data"
        }
      ],
      "source": [
        "learn = unet_learner(dls, resnet34)\n",
        "learn.fine_tune(10)"
      ]
    },
    {
      "cell_type": "markdown",
      "metadata": {
        "id": "85cZt2DNfmRv"
      },
      "source": [
        "We can visualize how well it achieved its task, by asking the model to color-code each pixel of an image. As you can see, it nearly perfectly classifies every pixel in every object. For instance, notice that all of the cars are overlaid with the same color and all of the trees are overlaid with the same color (in each pair of images, the lefthand image is the ground truth label and the right is the prediction from the model):"
      ]
    },
    {
      "cell_type": "code",
      "execution_count": 41,
      "metadata": {
        "colab": {
          "base_uri": "https://localhost:8080/",
          "height": 732
        },
        "id": "5uqbRi6Df8PL",
        "outputId": "79bb516e-942b-4906-8b47-2d77565904a9"
      },
      "outputs": [
        {
          "data": {
            "text/html": [
              "\n",
              "<style>\n",
              "    /* Turns off some styling */\n",
              "    progress {\n",
              "        /* gets rid of default border in Firefox and Opera. */\n",
              "        border: none;\n",
              "        /* Needs to be in here for Safari polyfill so background images work as expected. */\n",
              "        background-size: auto;\n",
              "    }\n",
              "    progress:not([value]), progress:not([value])::-webkit-progress-bar {\n",
              "        background: repeating-linear-gradient(45deg, #7e7e7e, #7e7e7e 10px, #5c5c5c 10px, #5c5c5c 20px);\n",
              "    }\n",
              "    .progress-bar-interrupted, .progress-bar-interrupted::-webkit-progress-bar {\n",
              "        background: #F44336;\n",
              "    }\n",
              "</style>\n"
            ],
            "text/plain": [
              "<IPython.core.display.HTML object>"
            ]
          },
          "metadata": {},
          "output_type": "display_data"
        },
        {
          "data": {
            "text/html": [],
            "text/plain": [
              "<IPython.core.display.HTML object>"
            ]
          },
          "metadata": {},
          "output_type": "display_data"
        },
        {
          "data": {
            "image/png": "[encoded data removed]",
            "text/plain": [
              "<Figure size 700x800 with 12 Axes>"
            ]
          },
          "metadata": {},
          "output_type": "display_data"
        }
      ],
      "source": [
        "learn.show_results(max_n=6, figsize=(7, 8))"
      ]
    },
    {
      "cell_type": "markdown",
      "metadata": {
        "id": "hz4O3b6TiEPr"
      },
      "source": [
        "### Sentiment Classification\n",
        "\n",
        "One other area where deep learning has dramatically improved in the last couple of years is natural language processing (NLP). Computers can now generate text, translate automatically from one language to another, analyze comments, label words in sentences, and much more. Here is all of the code necessary to train a model that can classify the sentiment of a movie review better than anything that existed in the world just five years ago. We will use the [\"IMDb Large Movie Review dataset\"](https://ai.stanford.edu/~ang/papers/acl11-WordVectorsSentimentAnalysis.pdf) from the paper \"Learning Word Vectors for Sentiment Analysis\" by Andrew Maas et al:\n"
      ]
    },
    {
      "cell_type": "markdown",
      "metadata": {
        "id": "IWx-x6A4iwII"
      },
      "source": [
        "Like previous examples, we need to download dataset first."
      ]
    },
    {
      "cell_type": "code",
      "execution_count": 43,
      "metadata": {
        "colab": {
          "base_uri": "https://localhost:8080/",
          "height": 37
        },
        "id": "rql7mHuaii2r",
        "outputId": "91909734-1f73-44f8-9641-e8461ffb5952"
      },
      "outputs": [
        {
          "data": {
            "text/html": [
              "\n",
              "<style>\n",
              "    /* Turns off some styling */\n",
              "    progress {\n",
              "        /* gets rid of default border in Firefox and Opera. */\n",
              "        border: none;\n",
              "        /* Needs to be in here for Safari polyfill so background images work as expected. */\n",
              "        background-size: auto;\n",
              "    }\n",
              "    progress:not([value]), progress:not([value])::-webkit-progress-bar {\n",
              "        background: repeating-linear-gradient(45deg, #7e7e7e, #7e7e7e 10px, #5c5c5c 10px, #5c5c5c 20px);\n",
              "    }\n",
              "    .progress-bar-interrupted, .progress-bar-interrupted::-webkit-progress-bar {\n",
              "        background: #F44336;\n",
              "    }\n",
              "</style>\n"
            ],
            "text/plain": [
              "<IPython.core.display.HTML object>"
            ]
          },
          "metadata": {},
          "output_type": "display_data"
        },
        {
          "data": {
            "text/html": [
              "\n",
              "    <div>\n",
              "      <progress value='144441344' class='' max='144440600' style='width:300px; height:20px; vertical-align: middle;'></progress>\n",
              "      100.00% [144441344/144440600 00:01&lt;00:00]\n",
              "    </div>\n",
              "    "
            ],
            "text/plain": [
              "<IPython.core.display.HTML object>"
            ]
          },
          "metadata": {},
          "output_type": "display_data"
        }
      ],
      "source": [
        "path = untar_data(URLs.IMDB)"
      ]
    },
    {
      "cell_type": "code",
      "execution_count": 57,
      "metadata": {
        "colab": {
          "base_uri": "https://localhost:8080/"
        },
        "id": "nUkH-it1jTxe",
        "outputId": "f6fee717-d1b0-4f72-d02a-a9371dd68494"
      },
      "outputs": [
        {
          "name": "stdout",
          "output_type": "stream",
          "text": [
            "We viewed the vcr and found it to be fascinating. Not knowing anything about this true story, I thought: \"Oh, no, P.Brosnan as an American Indian ('red' Indian in the film), what a bad choice\" until I discovered the truth about Grey Owl. The film does a good job of demonstrating the dignity of these native peoples and undermining the racist myths about them. And Annie Galipeau, WOW, what a beauty, and very convincing as an Indian woman (I believe she is French-Canadian; she sure reverts to the all-too familiar speech of such). In spite, of Brosnan's detached, grunting style, in the end he comes through convincingly as a passionate, dedicated man. The plot is a little weak in demostrating his conversion from trapper to animal coservationist. Good film, highly recommended.\n"
          ]
        }
      ],
      "source": [
        "# Take a look at some of positive reviews\n",
        "with open(\"/root/.fastai/data/imdb/train/pos/5059_7.txt\") as f:\n",
        "    txt = f.read()\n",
        "\n",
        "print(txt)"
      ]
    },
    {
      "cell_type": "code",
      "execution_count": 60,
      "metadata": {
        "colab": {
          "base_uri": "https://localhost:8080/"
        },
        "id": "gn6z-93pkdK9",
        "outputId": "82016442-067f-4529-e101-2f808f4f29df"
      },
      "outputs": [
        {
          "name": "stdout",
          "output_type": "stream",
          "text": [
            "Okay so I went into this movie not really expecting much I figured an action flick similar to The Fast and the Furious. Some nice cars some nice girls somewhat of a decent plot. Unfortunately I would have to say that this was probably the worst movie I have seen this year. Don't get me wrong the cars were nice and the girls were OK but the way they put the movie together was just plain crappy to put it nicely. The story just never made you care about the cast and the movie seemed just pieced together. So overall this movie was not the worst thing ever by far but if your looking for a movie to go to this weekend I would pass on this one for now.\n"
          ]
        }
      ],
      "source": [
        "# Take a look at some of negative reviews\n",
        "with open(\"/root/.fastai/data/imdb/train/neg/7141_3.txt\") as f:\n",
        "    txt = f.read()\n",
        "\n",
        "print(txt)"
      ]
    },
    {
      "cell_type": "markdown",
      "metadata": {
        "id": "k2323qOPk04r"
      },
      "source": [
        "Next, let's build `TextDataLoaders` using `from_folder` to create *imagenet* style dataset in `path` with `train` and `valid` subfolders (or provide `valid_pct`)."
      ]
    },
    {
      "cell_type": "code",
      "execution_count": 61,
      "metadata": {
        "colab": {
          "base_uri": "https://localhost:8080/",
          "height": 17
        },
        "id": "-c3NaLuBlaIN",
        "outputId": "e3f8af02-21ac-4752-e476-e6f7f7adad17"
      },
      "outputs": [
        {
          "data": {
            "text/html": [
              "\n",
              "<style>\n",
              "    /* Turns off some styling */\n",
              "    progress {\n",
              "        /* gets rid of default border in Firefox and Opera. */\n",
              "        border: none;\n",
              "        /* Needs to be in here for Safari polyfill so background images work as expected. */\n",
              "        background-size: auto;\n",
              "    }\n",
              "    progress:not([value]), progress:not([value])::-webkit-progress-bar {\n",
              "        background: repeating-linear-gradient(45deg, #7e7e7e, #7e7e7e 10px, #5c5c5c 10px, #5c5c5c 20px);\n",
              "    }\n",
              "    .progress-bar-interrupted, .progress-bar-interrupted::-webkit-progress-bar {\n",
              "        background: #F44336;\n",
              "    }\n",
              "</style>\n"
            ],
            "text/plain": [
              "<IPython.core.display.HTML object>"
            ]
          },
          "metadata": {},
          "output_type": "display_data"
        },
        {
          "data": {
            "text/html": [],
            "text/plain": [
              "<IPython.core.display.HTML object>"
            ]
          },
          "metadata": {},
          "output_type": "display_data"
        }
      ],
      "source": [
        "dls = TextDataLoaders.from_folder(untar_data(URLs.IMDB), valid='test')"
      ]
    },
    {
      "cell_type": "markdown",
      "metadata": {
        "id": "p1WDFIgUlsUK"
      },
      "source": [
        "Note that we provide `valid` as \"test\" because of the folder name."
      ]
    },
    {
      "cell_type": "markdown",
      "metadata": {
        "id": "zndxsyIDl-Rp"
      },
      "source": [
        "Last, using `text_classifier_learner` and `AWD_LSTM` architecture."
      ]
    },
    {
      "cell_type": "code",
      "execution_count": 62,
      "metadata": {
        "colab": {
          "base_uri": "https://localhost:8080/",
          "height": 259
        },
        "id": "bERAUvQqnDcE",
        "outputId": "0c528696-1082-4e54-8d95-99aa0e3a24d1"
      },
      "outputs": [
        {
          "data": {
            "text/html": [
              "\n",
              "<style>\n",
              "    /* Turns off some styling */\n",
              "    progress {\n",
              "        /* gets rid of default border in Firefox and Opera. */\n",
              "        border: none;\n",
              "        /* Needs to be in here for Safari polyfill so background images work as expected. */\n",
              "        background-size: auto;\n",
              "    }\n",
              "    progress:not([value]), progress:not([value])::-webkit-progress-bar {\n",
              "        background: repeating-linear-gradient(45deg, #7e7e7e, #7e7e7e 10px, #5c5c5c 10px, #5c5c5c 20px);\n",
              "    }\n",
              "    .progress-bar-interrupted, .progress-bar-interrupted::-webkit-progress-bar {\n",
              "        background: #F44336;\n",
              "    }\n",
              "</style>\n"
            ],
            "text/plain": [
              "<IPython.core.display.HTML object>"
            ]
          },
          "metadata": {},
          "output_type": "display_data"
        },
        {
          "data": {
            "text/html": [
              "\n",
              "    <div>\n",
              "      <progress value='105070592' class='' max='105067061' style='width:300px; height:20px; vertical-align: middle;'></progress>\n",
              "      100.00% [105070592/105067061 00:01&lt;00:00]\n",
              "    </div>\n",
              "    "
            ],
            "text/plain": [
              "<IPython.core.display.HTML object>"
            ]
          },
          "metadata": {},
          "output_type": "display_data"
        },
        {
          "data": {
            "text/html": [
              "\n",
              "<style>\n",
              "    /* Turns off some styling */\n",
              "    progress {\n",
              "        /* gets rid of default border in Firefox and Opera. */\n",
              "        border: none;\n",
              "        /* Needs to be in here for Safari polyfill so background images work as expected. */\n",
              "        background-size: auto;\n",
              "    }\n",
              "    progress:not([value]), progress:not([value])::-webkit-progress-bar {\n",
              "        background: repeating-linear-gradient(45deg, #7e7e7e, #7e7e7e 10px, #5c5c5c 10px, #5c5c5c 20px);\n",
              "    }\n",
              "    .progress-bar-interrupted, .progress-bar-interrupted::-webkit-progress-bar {\n",
              "        background: #F44336;\n",
              "    }\n",
              "</style>\n"
            ],
            "text/plain": [
              "<IPython.core.display.HTML object>"
            ]
          },
          "metadata": {},
          "output_type": "display_data"
        },
        {
          "data": {
            "text/html": [
              "<table border=\"1\" class=\"dataframe\">\n",
              "  <thead>\n",
              "    <tr style=\"text-align: left;\">\n",
              "      <th>epoch</th>\n",
              "      <th>train_loss</th>\n",
              "      <th>valid_loss</th>\n",
              "      <th>accuracy</th>\n",
              "      <th>time</th>\n",
              "    </tr>\n",
              "  </thead>\n",
              "  <tbody>\n",
              "    <tr>\n",
              "      <td>0</td>\n",
              "      <td>0.461787</td>\n",
              "      <td>0.411839</td>\n",
              "      <td>0.810760</td>\n",
              "      <td>03:20</td>\n",
              "    </tr>\n",
              "  </tbody>\n",
              "</table>"
            ],
            "text/plain": [
              "<IPython.core.display.HTML object>"
            ]
          },
          "metadata": {},
          "output_type": "display_data"
        },
        {
          "data": {
            "text/html": [
              "\n",
              "<style>\n",
              "    /* Turns off some styling */\n",
              "    progress {\n",
              "        /* gets rid of default border in Firefox and Opera. */\n",
              "        border: none;\n",
              "        /* Needs to be in here for Safari polyfill so background images work as expected. */\n",
              "        background-size: auto;\n",
              "    }\n",
              "    progress:not([value]), progress:not([value])::-webkit-progress-bar {\n",
              "        background: repeating-linear-gradient(45deg, #7e7e7e, #7e7e7e 10px, #5c5c5c 10px, #5c5c5c 20px);\n",
              "    }\n",
              "    .progress-bar-interrupted, .progress-bar-interrupted::-webkit-progress-bar {\n",
              "        background: #F44336;\n",
              "    }\n",
              "</style>\n"
            ],
            "text/plain": [
              "<IPython.core.display.HTML object>"
            ]
          },
          "metadata": {},
          "output_type": "display_data"
        },
        {
          "data": {
            "text/html": [
              "<table border=\"1\" class=\"dataframe\">\n",
              "  <thead>\n",
              "    <tr style=\"text-align: left;\">\n",
              "      <th>epoch</th>\n",
              "      <th>train_loss</th>\n",
              "      <th>valid_loss</th>\n",
              "      <th>accuracy</th>\n",
              "      <th>time</th>\n",
              "    </tr>\n",
              "  </thead>\n",
              "  <tbody>\n",
              "    <tr>\n",
              "      <td>0</td>\n",
              "      <td>0.315260</td>\n",
              "      <td>0.248558</td>\n",
              "      <td>0.899240</td>\n",
              "      <td>06:39</td>\n",
              "    </tr>\n",
              "    <tr>\n",
              "      <td>1</td>\n",
              "      <td>0.231946</td>\n",
              "      <td>0.193859</td>\n",
              "      <td>0.924000</td>\n",
              "      <td>06:44</td>\n",
              "    </tr>\n",
              "    <tr>\n",
              "      <td>2</td>\n",
              "      <td>0.193754</td>\n",
              "      <td>0.186784</td>\n",
              "      <td>0.928080</td>\n",
              "      <td>06:40</td>\n",
              "    </tr>\n",
              "    <tr>\n",
              "      <td>3</td>\n",
              "      <td>0.144128</td>\n",
              "      <td>0.200959</td>\n",
              "      <td>0.925600</td>\n",
              "      <td>06:41</td>\n",
              "    </tr>\n",
              "  </tbody>\n",
              "</table>"
            ],
            "text/plain": [
              "<IPython.core.display.HTML object>"
            ]
          },
          "metadata": {},
          "output_type": "display_data"
        }
      ],
      "source": [
        "learn = text_classifier_learner(dls, AWD_LSTM, drop_mult=0.5, metrics=accuracy)\n",
        "learn.fine_tune(4, 1e-2)"
      ]
    },
    {
      "cell_type": "markdown",
      "metadata": {
        "id": "RWHywKAHnjkr"
      },
      "source": [
        "There are some options that I would like to point out. First, it is `drop_mult`. According to the documentation, it controls all the amount of \"dropout\" — a technique used to make the model more generalized, reducing the change of overfitting. Second, it is the value `1e-2`. This is \"learning rate\" which is a hyperparameter in SGD. Basically, it is like a step size of learning. The lower the value is, the slower training process is and hopefully more well-trained model received.\n",
        "\n",
        ":::{.callout-tip}\n",
        "If you ever have any questions about a fastai method, you should use the function `doc`, passing it the method name:\n",
        "\n",
        "```python\n",
        "doc(learn.predict)\n",
        "```\n",
        ":::\n",
        "\n",
        "Let's move on to something much less sexy, but perhaps significantly more widely commercially useful: building models from plain *tabular* data."
      ]
    },
    {
      "cell_type": "markdown",
      "metadata": {
        "id": "j601-z_IpJ7K"
      },
      "source": [
        "### Tabular Data\n",
        "\n",
        "It is a type of data that is in the form of a table, such as from a spreadsheet, database, or CSV file. A tabular model is a model that tries to predict one column of a table based on information in other columns of the table.\n",
        "\n",
        "Here is the code necessary to train a model that will predict whether a person is a high-income earner, based on their socioeconomic background:"
      ]
    },
    {
      "cell_type": "code",
      "execution_count": 65,
      "metadata": {
        "id": "hhy2EBZ-qPgu"
      },
      "outputs": [],
      "source": [
        "path = untar_data(URLs.ADULT_SAMPLE)\n",
        "\n",
        "dls = TabularDataLoaders.from_csv(path/'adult.csv', path=path, y_names=\"salary\",\n",
        "    cat_names = ['workclass', 'education', 'marital-status', 'occupation',\n",
        "                 'relationship', 'race'],\n",
        "    cont_names = ['age', 'fnlwgt', 'education-num'],\n",
        "    procs = [Categorify, FillMissing, Normalize])\n",
        "\n",
        "learn = tabular_learner(dls, metrics=accuracy)"
      ]
    },
    {
      "cell_type": "markdown",
      "metadata": {
        "id": "KPstSvgEqr73"
      },
      "source": [
        "There are various things to note:\n",
        "* `TabularDataLoaders` uses `from_csv` method to load data from downloaded **adult.csv** file.\n",
        "* `y_names` is for a target column\n",
        "* `cat_names` is for categorical features\n",
        "* `cont_names` is for continuous features\n",
        "* `procs` is the steps for pre-processing data before entering the model such as:\n",
        "    * `Categorify` means categorical encoding: Convert categories into numerical representation\n",
        "    * `Normalize` means \"Normalization\" — the technique to eliminate the unit aspect of numerical data\n",
        "\n",
        "Last, since there is no pretrained model available for this task (in general, pretrained models are not widely available for any tabular modeling tasks, although some organizations have created them for internal use), so we don't use `fine_tune` in this case. Instead we use `fit_one_cycle`, the most commonly used method for training `fastai` models *from scratch* (i.e. without transfer learning):"
      ]
    },
    {
      "cell_type": "code",
      "execution_count": 66,
      "metadata": {
        "colab": {
          "base_uri": "https://localhost:8080/",
          "height": 143
        },
        "id": "dH3W_rAosVMC",
        "outputId": "a05459cc-4fa1-4db4-e682-9646372df38f"
      },
      "outputs": [
        {
          "data": {
            "text/html": [
              "\n",
              "<style>\n",
              "    /* Turns off some styling */\n",
              "    progress {\n",
              "        /* gets rid of default border in Firefox and Opera. */\n",
              "        border: none;\n",
              "        /* Needs to be in here for Safari polyfill so background images work as expected. */\n",
              "        background-size: auto;\n",
              "    }\n",
              "    progress:not([value]), progress:not([value])::-webkit-progress-bar {\n",
              "        background: repeating-linear-gradient(45deg, #7e7e7e, #7e7e7e 10px, #5c5c5c 10px, #5c5c5c 20px);\n",
              "    }\n",
              "    .progress-bar-interrupted, .progress-bar-interrupted::-webkit-progress-bar {\n",
              "        background: #F44336;\n",
              "    }\n",
              "</style>\n"
            ],
            "text/plain": [
              "<IPython.core.display.HTML object>"
            ]
          },
          "metadata": {},
          "output_type": "display_data"
        },
        {
          "data": {
            "text/html": [
              "<table border=\"1\" class=\"dataframe\">\n",
              "  <thead>\n",
              "    <tr style=\"text-align: left;\">\n",
              "      <th>epoch</th>\n",
              "      <th>train_loss</th>\n",
              "      <th>valid_loss</th>\n",
              "      <th>accuracy</th>\n",
              "      <th>time</th>\n",
              "    </tr>\n",
              "  </thead>\n",
              "  <tbody>\n",
              "    <tr>\n",
              "      <td>0</td>\n",
              "      <td>0.391232</td>\n",
              "      <td>0.355708</td>\n",
              "      <td>0.837070</td>\n",
              "      <td>00:04</td>\n",
              "    </tr>\n",
              "    <tr>\n",
              "      <td>1</td>\n",
              "      <td>0.364654</td>\n",
              "      <td>0.343000</td>\n",
              "      <td>0.842598</td>\n",
              "      <td>00:05</td>\n",
              "    </tr>\n",
              "    <tr>\n",
              "      <td>2</td>\n",
              "      <td>0.358486</td>\n",
              "      <td>0.340704</td>\n",
              "      <td>0.846898</td>\n",
              "      <td>00:04</td>\n",
              "    </tr>\n",
              "  </tbody>\n",
              "</table>"
            ],
            "text/plain": [
              "<IPython.core.display.HTML object>"
            ]
          },
          "metadata": {},
          "output_type": "display_data"
        }
      ],
      "source": [
        "learn.fit_one_cycle(3)"
      ]
    },
    {
      "cell_type": "markdown",
      "metadata": {
        "id": "ay2A8FrZtSgz"
      },
      "source": [
        "This model is using the [*Adult* dataset](http://robotics.stanford.edu/~ronnyk/nbtree.pdf), from the paper \"Scaling Up the Accuracy of Naive-Bayes Classifiers: a Decision-Tree Hybrid\" by Rob Kohavi, which contains some demographic data about individuals (like their education, marital status, race, sex, and whether or not they have an annual income greater than \\$50k)."
      ]
    },
    {
      "cell_type": "markdown",
      "metadata": {
        "id": "aYSfeAuBshmx"
      },
      "source": [
        "### Recommendation System\n",
        "\n",
        "Let's look at one more. Recommendation systems are very important, particularly in e-commerce. Companies like Amazon and Netflix try hard to recommend products or movies that users might like. Here's how to train a model that will predict movies people might like, based on their previous viewing habits, using the [MovieLens dataset](https://doi.org/10.1145/2827872):"
      ]
    },
    {
      "cell_type": "code",
      "execution_count": 68,
      "metadata": {
        "colab": {
          "base_uri": "https://localhost:8080/",
          "height": 447
        },
        "id": "LdPxuciFt8e2",
        "outputId": "ed2632fe-5406-4577-9e26-090634a382a5"
      },
      "outputs": [
        {
          "data": {
            "text/html": [
              "\n",
              "<style>\n",
              "    /* Turns off some styling */\n",
              "    progress {\n",
              "        /* gets rid of default border in Firefox and Opera. */\n",
              "        border: none;\n",
              "        /* Needs to be in here for Safari polyfill so background images work as expected. */\n",
              "        background-size: auto;\n",
              "    }\n",
              "    progress:not([value]), progress:not([value])::-webkit-progress-bar {\n",
              "        background: repeating-linear-gradient(45deg, #7e7e7e, #7e7e7e 10px, #5c5c5c 10px, #5c5c5c 20px);\n",
              "    }\n",
              "    .progress-bar-interrupted, .progress-bar-interrupted::-webkit-progress-bar {\n",
              "        background: #F44336;\n",
              "    }\n",
              "</style>\n"
            ],
            "text/plain": [
              "<IPython.core.display.HTML object>"
            ]
          },
          "metadata": {},
          "output_type": "display_data"
        },
        {
          "data": {
            "text/html": [
              "\n",
              "    <div>\n",
              "      <progress value='57344' class='' max='51790' style='width:300px; height:20px; vertical-align: middle;'></progress>\n",
              "      110.72% [57344/51790 00:00&lt;00:00]\n",
              "    </div>\n",
              "    "
            ],
            "text/plain": [
              "<IPython.core.display.HTML object>"
            ]
          },
          "metadata": {},
          "output_type": "display_data"
        },
        {
          "data": {
            "text/html": [
              "\n",
              "<style>\n",
              "    /* Turns off some styling */\n",
              "    progress {\n",
              "        /* gets rid of default border in Firefox and Opera. */\n",
              "        border: none;\n",
              "        /* Needs to be in here for Safari polyfill so background images work as expected. */\n",
              "        background-size: auto;\n",
              "    }\n",
              "    progress:not([value]), progress:not([value])::-webkit-progress-bar {\n",
              "        background: repeating-linear-gradient(45deg, #7e7e7e, #7e7e7e 10px, #5c5c5c 10px, #5c5c5c 20px);\n",
              "    }\n",
              "    .progress-bar-interrupted, .progress-bar-interrupted::-webkit-progress-bar {\n",
              "        background: #F44336;\n",
              "    }\n",
              "</style>\n"
            ],
            "text/plain": [
              "<IPython.core.display.HTML object>"
            ]
          },
          "metadata": {},
          "output_type": "display_data"
        },
        {
          "data": {
            "text/html": [
              "<table border=\"1\" class=\"dataframe\">\n",
              "  <thead>\n",
              "    <tr style=\"text-align: left;\">\n",
              "      <th>epoch</th>\n",
              "      <th>train_loss</th>\n",
              "      <th>valid_loss</th>\n",
              "      <th>time</th>\n",
              "    </tr>\n",
              "  </thead>\n",
              "  <tbody>\n",
              "    <tr>\n",
              "      <td>0</td>\n",
              "      <td>1.504237</td>\n",
              "      <td>1.424283</td>\n",
              "      <td>00:00</td>\n",
              "    </tr>\n",
              "  </tbody>\n",
              "</table>"
            ],
            "text/plain": [
              "<IPython.core.display.HTML object>"
            ]
          },
          "metadata": {},
          "output_type": "display_data"
        },
        {
          "data": {
            "text/html": [
              "\n",
              "<style>\n",
              "    /* Turns off some styling */\n",
              "    progress {\n",
              "        /* gets rid of default border in Firefox and Opera. */\n",
              "        border: none;\n",
              "        /* Needs to be in here for Safari polyfill so background images work as expected. */\n",
              "        background-size: auto;\n",
              "    }\n",
              "    progress:not([value]), progress:not([value])::-webkit-progress-bar {\n",
              "        background: repeating-linear-gradient(45deg, #7e7e7e, #7e7e7e 10px, #5c5c5c 10px, #5c5c5c 20px);\n",
              "    }\n",
              "    .progress-bar-interrupted, .progress-bar-interrupted::-webkit-progress-bar {\n",
              "        background: #F44336;\n",
              "    }\n",
              "</style>\n"
            ],
            "text/plain": [
              "<IPython.core.display.HTML object>"
            ]
          },
          "metadata": {},
          "output_type": "display_data"
        },
        {
          "data": {
            "text/html": [
              "<table border=\"1\" class=\"dataframe\">\n",
              "  <thead>\n",
              "    <tr style=\"text-align: left;\">\n",
              "      <th>epoch</th>\n",
              "      <th>train_loss</th>\n",
              "      <th>valid_loss</th>\n",
              "      <th>time</th>\n",
              "    </tr>\n",
              "  </thead>\n",
              "  <tbody>\n",
              "    <tr>\n",
              "      <td>0</td>\n",
              "      <td>1.373108</td>\n",
              "      <td>1.367214</td>\n",
              "      <td>00:00</td>\n",
              "    </tr>\n",
              "    <tr>\n",
              "      <td>1</td>\n",
              "      <td>1.271707</td>\n",
              "      <td>1.195855</td>\n",
              "      <td>00:00</td>\n",
              "    </tr>\n",
              "    <tr>\n",
              "      <td>2</td>\n",
              "      <td>1.038150</td>\n",
              "      <td>0.891961</td>\n",
              "      <td>00:00</td>\n",
              "    </tr>\n",
              "    <tr>\n",
              "      <td>3</td>\n",
              "      <td>0.809098</td>\n",
              "      <td>0.742112</td>\n",
              "      <td>00:00</td>\n",
              "    </tr>\n",
              "    <tr>\n",
              "      <td>4</td>\n",
              "      <td>0.688838</td>\n",
              "      <td>0.704049</td>\n",
              "      <td>00:00</td>\n",
              "    </tr>\n",
              "    <tr>\n",
              "      <td>5</td>\n",
              "      <td>0.646945</td>\n",
              "      <td>0.690868</td>\n",
              "      <td>00:00</td>\n",
              "    </tr>\n",
              "    <tr>\n",
              "      <td>6</td>\n",
              "      <td>0.626341</td>\n",
              "      <td>0.685442</td>\n",
              "      <td>00:00</td>\n",
              "    </tr>\n",
              "    <tr>\n",
              "      <td>7</td>\n",
              "      <td>0.604875</td>\n",
              "      <td>0.683328</td>\n",
              "      <td>00:00</td>\n",
              "    </tr>\n",
              "    <tr>\n",
              "      <td>8</td>\n",
              "      <td>0.606573</td>\n",
              "      <td>0.682748</td>\n",
              "      <td>00:00</td>\n",
              "    </tr>\n",
              "    <tr>\n",
              "      <td>9</td>\n",
              "      <td>0.600661</td>\n",
              "      <td>0.682595</td>\n",
              "      <td>00:00</td>\n",
              "    </tr>\n",
              "  </tbody>\n",
              "</table>"
            ],
            "text/plain": [
              "<IPython.core.display.HTML object>"
            ]
          },
          "metadata": {},
          "output_type": "display_data"
        }
      ],
      "source": [
        "path = untar_data(URLs.ML_SAMPLE)\n",
        "\n",
        "dls = CollabDataLoaders.from_csv(path/'ratings.csv')\n",
        "\n",
        "learn = collab_learner(dls, y_range=(0.5,5.5))\n",
        "learn.fine_tune(10)"
      ]
    },
    {
      "cell_type": "markdown",
      "metadata": {
        "id": "AWvhWwYPuAu1"
      },
      "source": [
        "This model is predicting movie ratings on a scale of 0.5 to 5.0 to within around 0.6 average error. Since we're predicting a continuous number, rather than a category, we have to tell `fastai` what range our target has, using the `y_range` parameter.\n",
        "\n",
        "Although we're not actually using a pretrained model (for the same reason that we didn't for the tabular model), this example shows that fastai lets us use `fine_tune` anyway in this case. Sometimes it's best to experiment with `fine_tune` versus `fit_one_cycle` to see which works best for your dataset."
      ]
    },
    {
      "cell_type": "markdown",
      "metadata": {
        "id": "YI0WjNZDukIe"
      },
      "source": [
        "We can use the same `show_results` call we saw earlier to view a few examples of user and movie IDs, actual ratings, and predictions:"
      ]
    },
    {
      "cell_type": "code",
      "execution_count": 69,
      "metadata": {
        "colab": {
          "base_uri": "https://localhost:8080/",
          "height": 332
        },
        "id": "DQgwF2qouoYN",
        "outputId": "b037851d-6c1d-4634-b974-faeaaf5659bb"
      },
      "outputs": [
        {
          "data": {
            "text/html": [
              "\n",
              "<style>\n",
              "    /* Turns off some styling */\n",
              "    progress {\n",
              "        /* gets rid of default border in Firefox and Opera. */\n",
              "        border: none;\n",
              "        /* Needs to be in here for Safari polyfill so background images work as expected. */\n",
              "        background-size: auto;\n",
              "    }\n",
              "    progress:not([value]), progress:not([value])::-webkit-progress-bar {\n",
              "        background: repeating-linear-gradient(45deg, #7e7e7e, #7e7e7e 10px, #5c5c5c 10px, #5c5c5c 20px);\n",
              "    }\n",
              "    .progress-bar-interrupted, .progress-bar-interrupted::-webkit-progress-bar {\n",
              "        background: #F44336;\n",
              "    }\n",
              "</style>\n"
            ],
            "text/plain": [
              "<IPython.core.display.HTML object>"
            ]
          },
          "metadata": {},
          "output_type": "display_data"
        },
        {
          "data": {
            "text/html": [],
            "text/plain": [
              "<IPython.core.display.HTML object>"
            ]
          },
          "metadata": {},
          "output_type": "display_data"
        },
        {
          "data": {
            "text/html": [
              "<table border=\"1\" class=\"dataframe\">\n",
              "  <thead>\n",
              "    <tr style=\"text-align: right;\">\n",
              "      <th></th>\n",
              "      <th>userId</th>\n",
              "      <th>movieId</th>\n",
              "      <th>rating</th>\n",
              "      <th>rating_pred</th>\n",
              "    </tr>\n",
              "  </thead>\n",
              "  <tbody>\n",
              "    <tr>\n",
              "      <th>0</th>\n",
              "      <td>8.0</td>\n",
              "      <td>80.0</td>\n",
              "      <td>4.0</td>\n",
              "      <td>4.326948</td>\n",
              "    </tr>\n",
              "    <tr>\n",
              "      <th>1</th>\n",
              "      <td>79.0</td>\n",
              "      <td>58.0</td>\n",
              "      <td>5.0</td>\n",
              "      <td>4.278591</td>\n",
              "    </tr>\n",
              "    <tr>\n",
              "      <th>2</th>\n",
              "      <td>36.0</td>\n",
              "      <td>15.0</td>\n",
              "      <td>4.0</td>\n",
              "      <td>4.152308</td>\n",
              "    </tr>\n",
              "    <tr>\n",
              "      <th>3</th>\n",
              "      <td>76.0</td>\n",
              "      <td>65.0</td>\n",
              "      <td>4.0</td>\n",
              "      <td>3.322256</td>\n",
              "    </tr>\n",
              "    <tr>\n",
              "      <th>4</th>\n",
              "      <td>17.0</td>\n",
              "      <td>20.0</td>\n",
              "      <td>5.0</td>\n",
              "      <td>4.176706</td>\n",
              "    </tr>\n",
              "    <tr>\n",
              "      <th>5</th>\n",
              "      <td>65.0</td>\n",
              "      <td>80.0</td>\n",
              "      <td>4.5</td>\n",
              "      <td>3.973742</td>\n",
              "    </tr>\n",
              "    <tr>\n",
              "      <th>6</th>\n",
              "      <td>74.0</td>\n",
              "      <td>25.0</td>\n",
              "      <td>3.0</td>\n",
              "      <td>3.568486</td>\n",
              "    </tr>\n",
              "    <tr>\n",
              "      <th>7</th>\n",
              "      <td>43.0</td>\n",
              "      <td>26.0</td>\n",
              "      <td>4.0</td>\n",
              "      <td>3.550551</td>\n",
              "    </tr>\n",
              "    <tr>\n",
              "      <th>8</th>\n",
              "      <td>99.0</td>\n",
              "      <td>15.0</td>\n",
              "      <td>4.5</td>\n",
              "      <td>4.204627</td>\n",
              "    </tr>\n",
              "  </tbody>\n",
              "</table>"
            ],
            "text/plain": [
              "<IPython.core.display.HTML object>"
            ]
          },
          "metadata": {},
          "output_type": "display_data"
        }
      ],
      "source": [
        "learn.show_results()"
      ]
    },
    {
      "cell_type": "markdown",
      "metadata": {},
      "source": [
        "## Questionnaire\n",
        "\n",
        "All the answers are in the text of the chapter of [the book](https://course.fast.ai/Resources/book.html), so if you're not sure about anything here, reread that part of the text and make sure you understand it.\n",
        "\n",
        "For more questions, including detailed answers and links to the video timeline, have a look at Radek Osmulski's [aiquizzes](http://aiquizzes.com/howto).\n",
        "\n",
        "1. Do you need these for deep learning?\n",
        "    * Lots of math T/F\n",
        "    * Lots of data T/F\n",
        "    * Lots of expensive computers T/F\n",
        "    * A PhD T/F\n",
        "\n",
        "<details>\n",
        "<summary>Solution</summary>\n",
        "    \n",
        "* Lots of math: F\n",
        "* Lots of data: F\n",
        "* Lots of expensive computers: F\n",
        "* A PhD: F\n",
        "\n",
        "</details>\n",
        "\n",
        "2. Name five areas where deep learning is now the best in the world.\n",
        "\n",
        "<details>\n",
        "<summary>Solution</summary>\n",
        "    \n",
        "* Games: Playing Go and Starcraft\n",
        "* NLP: LLMs — a large language model capable of predicting the next word\n",
        "* Computer Vision: Image classification like *AlexNet*\n",
        "* Generative AI: Image generation and video generation\n",
        "* Recommendation Systems: Movie recommendation\n",
        "\n",
        "</details>\n",
        "\n",
        "3. What was the name of the first device that was based on the principle of the artificial neuron?f\n",
        "\n",
        "<details>\n",
        "<summary>Solution</summary>\n",
        "    \n",
        "The Mark I Perceptron\n",
        "\n",
        "</details>\n",
        "\n",
        "4. Based on the book of the same name, what are the requirements for parallel distributed processing (PDP)?\n",
        "\n",
        "<details>\n",
        "<summary>Solution</summary>\n",
        "    \n",
        "1. A set of *processing units*\n",
        "2. A *state of activation*\n",
        "3. An *output function* for each unit\n",
        "4. A *pattern of connectivity* among units\n",
        "5. A *propagation rule* for propagating patterns of activities through the network of connectivities\n",
        "6. An *activation rule* for combining the inputs impinging on a unit with the current state of that unit to produce an output for the unit\n",
        "7. A *learning rule* whereby patterns of connectivity are modified by experience\n",
        "8. An *environment* within which the system must operate\n",
        "\n",
        "</details>\n",
        "\n",
        "5. What were the two theoretical misunderstandings that held back the field of neural networks?\n",
        "\n",
        "<details>\n",
        "<summary>Solution</summary>\n",
        "    \n",
        "The first one is the failure of the NN to handle simple XOR operation on a single layer and the second one is the statement which state that one extra layer of NN can solve any problem but it is slower and impossible to be useful in practice.\n",
        "\n",
        "</details>\n",
        "\n",
        "6. What is a GPU?\n",
        "\n",
        "<details>\n",
        "<summary>Solution</summary>\n",
        "    \n",
        "GPU stands for Graphical Processing Unit. It is vital for training a deep learning model due to its parallelized nature of computation.\n",
        "\n",
        "</details>\n",
        "\n",
        "7. Open a notebook and execute a cell containing: `1+1`. What happens?\n",
        "\n",
        "<details>\n",
        "<summary>Solution</summary>\n",
        "    \n",
        "2\n",
        "\n",
        "</details>\n",
        "\n",
        "8. Follow through each cell of the stripped version of the notebook for this chapter. Before executing each cell, guess what will happen.\n",
        "\n",
        "<details>\n",
        "<summary>Solution</summary>\n",
        "    \n",
        "All done through this documenation!\n",
        "\n",
        "</details>\n",
        "\n",
        "9. Complete the Jupyter Notebook online appendix.\n",
        "\n",
        "<details>\n",
        "<summary>Solution</summary>\n",
        "    \n",
        "All done through this documenation and experimentation!\n",
        "\n",
        "</details>\n",
        "\n",
        "10. Why is it hard to use a traditional computer program to recognize images in a photo?\n",
        "\n",
        "<details>\n",
        "<summary>Solution</summary>\n",
        "    \n",
        "In traditional programming, you need to give a step-by-step instruction to program an application what to behave. On the other hand, Machine learning gives a computer ability to learn without being explicitly programmed.\n",
        "\n",
        "</details>\n",
        "\n",
        "11. What did Samuel mean by \"weight assignment\"?\n",
        "\n",
        "<details>\n",
        "<summary>Solution</summary>\n",
        "    \n",
        "A process to determine the model parameters. Those weights at the end of the day need to give the model ability to complete a task. In other words, it needs to successfully transform inputs to outputs as intended.\n",
        "\n",
        "</details>\n",
        "\n",
        "12. What term do we normally use in deep learning for what Samuel called \"weights\"?\n",
        "\n",
        "<details>\n",
        "<summary>Solution</summary>\n",
        "    \n",
        "Model parameters\n",
        "\n",
        "</details>\n",
        "\n",
        "13. Draw a picture that summarizes Samuel's view of a machine learning model.\n",
        "\n",
        "<details>\n",
        "<summary>Solution</summary>\n",
        "\n",
        "Refer to the [a complete process of machine learning](01-deep-learning-in-practice.ipynb#what-is-machine-learning).\n",
        "\n",
        "</details>\n",
        "\n",
        "14. Why is it hard to understand why a deep learning model makes a particular prediction?\n",
        "\n",
        "<details>\n",
        "<summary>Solution</summary>\n",
        "    \n",
        "Due to its non-linearity behaviour from various functions from each node together with its deep architecture that makes those functions even more complex.\n",
        "\n",
        "</details>\n",
        "\n",
        "15. What is the name of the theorem that shows that a neural network can solve any mathematical problem to any level of accuracy?\n",
        "\n",
        "<details>\n",
        "<summary>Solution</summary>\n",
        "    \n",
        "Universal Approximation Theorem\n",
        "\n",
        "</details>\n",
        "\n",
        "16. What do you need in order to train a model?\n",
        "\n",
        "<details>\n",
        "<summary>Solution</summary>\n",
        "    \n",
        "* Dataset\n",
        "* Pretrained-model\n",
        "* GPU\n",
        "\n",
        "</details>\n",
        "\n",
        "17. How could a feedback loop impact the rollout of a predictive policing model?\n",
        "\n",
        "<details>\n",
        "<summary>Solution</summary>\n",
        "    \n",
        "If biases was made to a dataset and we keep using that dataset to train our model. Then, using our predictions from that model to train the model. It is likely to deviate from the truth. In this case:\n",
        "\n",
        "- A *predictive policing* model is created based on where arrests have been made in the past. In practice, this is not actually predicting crime, but rather predicting arrests, and is therefore partially simply reflecting biases in existing policing processes.\n",
        "- Law enforcement officers then might use that model to decide where to focus their police activity, resulting in increased arrests in those areas.\n",
        "- Data on these additional arrests would then be fed back in to retrain future versions of the model which eventually creating a feedback loop.\n",
        "\n",
        "</details>\n",
        "\n",
        "18. Do we always have to use 224×224-pixel images with the cat recognition model?\n",
        "\n",
        "<details>\n",
        "<summary>Solution</summary>\n",
        "    \n",
        "No, we don't. 224x224 size is just a standard size for historical reason as the old pretrained model needs this size exactly. Nowadays, we can pretty much use any size of an image to feed into the model because `item_tfms` will then resize it to be matched with the model input.\n",
        "\n",
        "</details>\n",
        "\n",
        "19. What is the difference between classification and regression?\n",
        "\n",
        "<details>\n",
        "<summary>Solution</summary>\n",
        "    \n",
        "They are both supervised-type machine learning models. The key difference is **classification** is for predicting categorical values like whether an image is a cat or a dog. In contrast, **regression** is something for estimating numerical values like a price of a car from various attributes such as colors and car models.\n",
        "\n",
        "</details>\n",
        "\n",
        "20. What is a validation set? What is a test set? Why do we need them?\n",
        "\n",
        "<details>\n",
        "<summary>Solution</summary>\n",
        "    \n",
        "Validation set is a portion of your dataset used to test the performance of the training process of the model such as model parameter evaluation and hyperparameter evaluation. This set also known as \"Development Set\".\n",
        "\n",
        "Test set is another held-out dataset. We keep it from ourselves in order to eliminate biases during the iterative development process. This set will help ensure that our model actually generalize well on new dataset despite our own choices of hyperparameters.\n",
        "\n",
        "</details>\n",
        "\n",
        "21. What will fastai do if you don't provide a validation set?\n",
        "\n",
        "<details>\n",
        "<summary>Solution</summary>\n",
        "\n",
        "automatically set it to 20% of all dataset you have. \n",
        "\n",
        "</details>\n",
        "\n",
        "22. Can we always use a random sample for a validation set? Why or why not?\n",
        "\n",
        "<details>\n",
        "<summary>Solution</summary>\n",
        "    \n",
        "We can't. The reason is that dataset has its own physical meaning. Consider time-series dataset, if we split data randomly, it will be strange for us to train on the data such as from 25-Dec to 31-Dec and use it to predict on 10-Nov. But it is not necessary the case, some dataset like diabetes classification may be able to split randomly (if we ensure the variety of each patient).\n",
        "\n",
        "</details>\n",
        "\n",
        "23. What is overfitting? Provide an example.\n",
        "\n",
        "<details>\n",
        "<summary>Solution</summary>\n",
        "    \n",
        "Overfiiting is a situation where a model can memorize all training samples and can not generalize well on the new dataset. For example, samples with roughly polynomial relationship. If you provide a model to have a this kind of relationship, in practice the model should perform well. However, if you train the model until overfitting occurs, instead of learning a relationship, the model will try to connect all samples together in other words memorize all patterns that it have seen. As a result, when a new data comes in, it can perform very bad due to overfitting situation.\n",
        "\n",
        "</details>\n",
        "\n",
        "24. What is a metric? How does it differ from \"loss\"?\n",
        "\n",
        "<details>\n",
        "<summary>Solution</summary>\n",
        "    \n",
        "A metric and loss is basically has the same goal which is to measure the performance of the model. The difference is that a metric is for human to quickly see if it is a good model and loss is for model optimization. Therefore, for a metric, the higher the value is, the more useful the model becomes. In contrast, for loss, the lower the value is, the more useful the model becomes.\n",
        "\n",
        "</details>\n",
        "\n",
        "25. How can pretrained models help?\n",
        "\n",
        "<details>\n",
        "<summary>Solution</summary>\n",
        "    \n",
        "It helps save your effort, time and cost. First, effort to gather and label huge amount of data from scratch. Next, saving your training time, usually a pretrained offers you more accurate model and tends to train faster. Last, training a model requires GPU and it is expensive. Therefore, a pretrained model which ususualy does less training time (Thanks to transfer learning technique) can save a lot of money while you stil accomplish your goal.\n",
        "\n",
        "</details>\n",
        "\n",
        "26. What is the \"head\" of a model?\n",
        "\n",
        "<details>\n",
        "<summary>Solution</summary>\n",
        "    \n",
        "It is the last part of the model. Usually, it is a part where weight changing and layer adding adapt to a similar task during fine tuning.\n",
        "\n",
        "</details>\n",
        "\n",
        "27. What kinds of features do the early layers of a CNN find? How about the later layers?\n",
        "\n",
        "<details>\n",
        "<summary>Solution</summary>\n",
        "CNN or Convolutional Neural Network learns basic features in the early layers such as colors and edges. In the latter layers, it will learn more complex features like an ear of a cat or a month of a dog.\n",
        "</details>\n",
        "\n",
        "28. Are image models only useful for photos?\n",
        "\n",
        "<details>\n",
        "<summary>Solution</summary>\n",
        "No really, it depends on how you shape your problem. If you can represent other data types into an image, you are good to go.\n",
        "</details>\n",
        "\n",
        "29. What is an \"architecture\"?\n",
        "\n",
        "<details>\n",
        "<summary>Solution</summary>\n",
        "An architecture is a term referring to a template of neural network structure. It acts as a starter form of the network before gaining weights through experience.\n",
        "</details>\n",
        "\n",
        "30. What is segmentation?\n",
        "\n",
        "<details>\n",
        "<summary>Solution</summary>\n",
        "Segmentation is a term used in image segmentation task (e.g., object detection). It is used for use-case like building an autonomous vehicle.\n",
        "</details>\n",
        "\n",
        "31. What is `y_range` used for? When do we need it?\n",
        "\n",
        "<details>\n",
        "<summary>Solution</summary>\n",
        "`y_range` is a parameter used in a technique callled \"Collaborative Filtering\". It is used to define the range of values when predicting a numerical value in recommadation system.\n",
        "</details>\n",
        "\n",
        "32. What are \"hyperparameters\"?\n",
        "\n",
        "<details>\n",
        "<summary>Solution</summary>\n",
        "Hyperparameters are choices that used to tweak a model in a high level such as architectures or learning rate. They are important for improving the efficiency of your model and they are figured out by trial-and-error process.\n",
        "</details>\n",
        "\n",
        "33. What's the best way to avoid failures when using AI in an organization?\n",
        "\n",
        "<details>\n",
        "<summary>Solution</summary>\n",
        "\n",
        "In short, make sure that you do not fool yourself. The best way is to split the data into 3 set: Training set, Validation set and Test set. These dataset serve different purpose. The first and second ones are for training and model evaluation while you are developing your model. The last one is to ensure that your model is good to go in the production without any bias elsewhere.\n",
        "\n",
        "</details>\n",
        "\n",
        "For a complete solutions, See [Fastbook Chapter 1 Questionnaire Solutions](https://forums.fast.ai/t/fastbook-chapter-1-questionnaire-solutions-wiki/65647)\n",
        "\n",
        "### Further Research\n",
        "\n",
        "1. Why is a GPU useful for deep learning? How is a CPU different, and why is it less effective for deep learning?\n",
        "\n",
        "<details>\n",
        "<summary>Solution</summary>\n",
        "GPU is good in parallelism. It can do multiple and small computations at the same time. For example, displaying billion of pixel of a 4K-60FPS streaming video synchronously. Generally speaking, in deep learning we use its benefit to training the model faster by running SGD in batches to update set of weight in the architecture. The key difference to CPU is while GPU can handle small computations simultaneously, CPU does not. It is made to handle a complex task one at a time such as reading sets of instruction in a computer sequentially. Therefore, in deep learning which has small computations thousands of times to update weights, GPU is more suitable for this task as operations in the training process do not require any complex computation at all (They are just adding and multiplication of matrix!). Therefore, GPU should be the hardware of your choice when doing deep learning.\n",
        "</details>\n",
        "\n",
        "2. Try to think of three areas where feedback loops might impact the use of machine learning. See if you can find documented examples of that happening in practice.\n",
        "\n",
        "<details>\n",
        "<summary>Solution</summary>\n",
        "\n",
        "* In human resources, let's say you want to create a model that find talented candidates for an application. This is very hard problem in practice as most of the data come from the past which may not be diverse enough or have changed through era. Here is an example of [Amazon ditched AI recruiting tool that favored men for technical jobs](https://www.theguardian.com/technology/2018/oct/10/amazon-hiring-ai-gender-bias-recruiting-engine) in practice.\n",
        "* In movie recommendation system, it highly depends on the user interaction which can lead to narrow sets of recommendations and limits your user experience.\n",
        "* In load approval systems, some features like races and social economic background can cause the machine to be bias over time as the model learns from those demographic data whether to approve for a load in the past.\n",
        "\n",
        "</details>"
      ]
    },
    {
      "cell_type": "markdown",
      "metadata": {},
      "source": [
        "This notebook is adapted from [Chapter 1 - Intro of Deep Learning for Coders with Fastai and PyTorch: AI Applications Without a PhD](https://nbviewer.org/github/fastai/fastbook/blob/master/01_intro.ipynb)."
      ]
    },
    {
      "cell_type": "code",
      "execution_count": null,
      "metadata": {},
      "outputs": [],
      "source": []
    }
  ],
  "metadata": {
    "accelerator": "GPU",
    "colab": {
      "gpuType": "T4",
      "provenance": []
    },
    "jupytext": {
      "split_at_heading": true
    },
    "kernelspec": {
      "display_name": "Python 3",
      "name": "python3"
    },
    "language_info": {
      "codemirror_mode": {
        "name": "ipython",
        "version": 3
      },
      "file_extension": ".py",
      "mimetype": "text/x-python",
      "name": "python",
      "nbconvert_exporter": "python",
      "pygments_lexer": "ipython3",
      "version": "3.10.12"
    },
    "widgets": {
      "application/vnd.jupyter.widget-state+json": {
        "20758989546a4aa2a7a6ebdedc449bff": {
          "model_module": "@jupyter-widgets/controls",
          "model_module_version": "1.5.0",
          "model_name": "FileUploadModel",
          "state": {
            "_counter": 0,
            "_dom_classes": [],
            "_model_module": "@jupyter-widgets/controls",
            "_model_module_version": "1.5.0",
            "_model_name": "FileUploadModel",
            "_view_count": null,
            "_view_module": "@jupyter-widgets/controls",
            "_view_module_version": "1.5.0",
            "_view_name": "FileUploadView",
            "accept": "",
            "button_style": "",
            "data": [],
            "description": "Upload",
            "description_tooltip": null,
            "disabled": false,
            "error": "",
            "icon": "upload",
            "layout": "IPY_MODEL_4338bc549b1a44d682e701df68043786",
            "metadata": [],
            "multiple": false,
            "style": "IPY_MODEL_2ca570ca7f044ea2a0820e95e30afdb1"
          }
        },
        "2ca570ca7f044ea2a0820e95e30afdb1": {
          "model_module": "@jupyter-widgets/controls",
          "model_module_version": "1.5.0",
          "model_name": "ButtonStyleModel",
          "state": {
            "_model_module": "@jupyter-widgets/controls",
            "_model_module_version": "1.5.0",
            "_model_name": "ButtonStyleModel",
            "_view_count": null,
            "_view_module": "@jupyter-widgets/base",
            "_view_module_version": "1.2.0",
            "_view_name": "StyleView",
            "button_color": null,
            "font_weight": ""
          }
        },
        "4338bc549b1a44d682e701df68043786": {
          "model_module": "@jupyter-widgets/base",
          "model_module_version": "1.2.0",
          "model_name": "LayoutModel",
          "state": {
            "_model_module": "@jupyter-widgets/base",
            "_model_module_version": "1.2.0",
            "_model_name": "LayoutModel",
            "_view_count": null,
            "_view_module": "@jupyter-widgets/base",
            "_view_module_version": "1.2.0",
            "_view_name": "LayoutView",
            "align_content": null,
            "align_items": null,
            "align_self": null,
            "border": null,
            "bottom": null,
            "display": null,
            "flex": null,
            "flex_flow": null,
            "grid_area": null,
            "grid_auto_columns": null,
            "grid_auto_flow": null,
            "grid_auto_rows": null,
            "grid_column": null,
            "grid_gap": null,
            "grid_row": null,
            "grid_template_areas": null,
            "grid_template_columns": null,
            "grid_template_rows": null,
            "height": null,
            "justify_content": null,
            "justify_items": null,
            "left": null,
            "margin": null,
            "max_height": null,
            "max_width": null,
            "min_height": null,
            "min_width": null,
            "object_fit": null,
            "object_position": null,
            "order": null,
            "overflow": null,
            "overflow_x": null,
            "overflow_y": null,
            "padding": null,
            "right": null,
            "top": null,
            "visibility": null,
            "width": null
          }
        }
      }
    }
  },
  "nbformat": 4,
  "nbformat_minor": 0
}
